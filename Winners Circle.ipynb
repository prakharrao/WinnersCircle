{
 "cells": [
  {
   "cell_type": "markdown",
   "metadata": {},
   "source": [
    "# IPL-2020 ANALYSIS"
   ]
  },
  {
   "cell_type": "code",
   "execution_count": 240,
   "metadata": {},
   "outputs": [],
   "source": [
    "import pandas as pd\n",
    "import matplotlib.pyplot as plt\n",
    "%matplotlib inline"
   ]
  },
  {
   "cell_type": "code",
   "execution_count": 241,
   "metadata": {},
   "outputs": [
    {
     "data": {
      "text/html": [
       "<div>\n",
       "<style scoped>\n",
       "    .dataframe tbody tr th:only-of-type {\n",
       "        vertical-align: middle;\n",
       "    }\n",
       "\n",
       "    .dataframe tbody tr th {\n",
       "        vertical-align: top;\n",
       "    }\n",
       "\n",
       "    .dataframe thead th {\n",
       "        text-align: right;\n",
       "    }\n",
       "</style>\n",
       "<table border=\"1\" class=\"dataframe\">\n",
       "  <thead>\n",
       "    <tr style=\"text-align: right;\">\n",
       "      <th></th>\n",
       "      <th>Match Number</th>\n",
       "      <th>Date</th>\n",
       "      <th>Match Time</th>\n",
       "      <th>Venue</th>\n",
       "      <th>Batting 1st</th>\n",
       "      <th>Chasing</th>\n",
       "      <th>Runs-1</th>\n",
       "      <th>Wickets-1</th>\n",
       "      <th>Runs-2</th>\n",
       "      <th>Wickets-2</th>\n",
       "      <th>Result</th>\n",
       "      <th>Winner</th>\n",
       "      <th>Loser</th>\n",
       "      <th>Super Over</th>\n",
       "      <th>Match Result</th>\n",
       "    </tr>\n",
       "  </thead>\n",
       "  <tbody>\n",
       "    <tr>\n",
       "      <th>0</th>\n",
       "      <td>1</td>\n",
       "      <td>2020-09-19</td>\n",
       "      <td>07:30:00</td>\n",
       "      <td>Abu Dhabi</td>\n",
       "      <td>MI</td>\n",
       "      <td>CSK</td>\n",
       "      <td>162</td>\n",
       "      <td>9</td>\n",
       "      <td>166</td>\n",
       "      <td>5</td>\n",
       "      <td>Chasing</td>\n",
       "      <td>CSK</td>\n",
       "      <td>MI</td>\n",
       "      <td>No</td>\n",
       "      <td>CSK won by 5 wickets</td>\n",
       "    </tr>\n",
       "    <tr>\n",
       "      <th>1</th>\n",
       "      <td>2</td>\n",
       "      <td>2020-09-20</td>\n",
       "      <td>07:30:00</td>\n",
       "      <td>Dubai</td>\n",
       "      <td>DC</td>\n",
       "      <td>KXIP</td>\n",
       "      <td>157</td>\n",
       "      <td>8</td>\n",
       "      <td>157</td>\n",
       "      <td>8</td>\n",
       "      <td>Match-Tied</td>\n",
       "      <td>DC</td>\n",
       "      <td>KXIP</td>\n",
       "      <td>Yes</td>\n",
       "      <td>DC won super over</td>\n",
       "    </tr>\n",
       "    <tr>\n",
       "      <th>2</th>\n",
       "      <td>3</td>\n",
       "      <td>2020-09-21</td>\n",
       "      <td>07:30:00</td>\n",
       "      <td>Dubai</td>\n",
       "      <td>RCB</td>\n",
       "      <td>SRH</td>\n",
       "      <td>163</td>\n",
       "      <td>5</td>\n",
       "      <td>153</td>\n",
       "      <td>10</td>\n",
       "      <td>Batting 1st</td>\n",
       "      <td>RCB</td>\n",
       "      <td>SRH</td>\n",
       "      <td>No</td>\n",
       "      <td>RCB won by 10 runs</td>\n",
       "    </tr>\n",
       "    <tr>\n",
       "      <th>3</th>\n",
       "      <td>4</td>\n",
       "      <td>2020-09-22</td>\n",
       "      <td>07:30:00</td>\n",
       "      <td>Sharjah</td>\n",
       "      <td>RR</td>\n",
       "      <td>CSK</td>\n",
       "      <td>216</td>\n",
       "      <td>7</td>\n",
       "      <td>200</td>\n",
       "      <td>6</td>\n",
       "      <td>Batting 1st</td>\n",
       "      <td>RR</td>\n",
       "      <td>CSK</td>\n",
       "      <td>No</td>\n",
       "      <td>RR won by 16 runs</td>\n",
       "    </tr>\n",
       "    <tr>\n",
       "      <th>4</th>\n",
       "      <td>5</td>\n",
       "      <td>2020-09-23</td>\n",
       "      <td>07:30:00</td>\n",
       "      <td>Abu Dhabi</td>\n",
       "      <td>MI</td>\n",
       "      <td>KKR</td>\n",
       "      <td>195</td>\n",
       "      <td>5</td>\n",
       "      <td>146</td>\n",
       "      <td>9</td>\n",
       "      <td>Batting 1st</td>\n",
       "      <td>MI</td>\n",
       "      <td>KKR</td>\n",
       "      <td>No</td>\n",
       "      <td>MI won by 49 runs</td>\n",
       "    </tr>\n",
       "    <tr>\n",
       "      <th>5</th>\n",
       "      <td>6</td>\n",
       "      <td>2020-09-24</td>\n",
       "      <td>07:30:00</td>\n",
       "      <td>Dubai</td>\n",
       "      <td>KXIP</td>\n",
       "      <td>RCB</td>\n",
       "      <td>206</td>\n",
       "      <td>3</td>\n",
       "      <td>109</td>\n",
       "      <td>10</td>\n",
       "      <td>Batting 1st</td>\n",
       "      <td>KXIP</td>\n",
       "      <td>RCB</td>\n",
       "      <td>No</td>\n",
       "      <td>KXIP won 97 runs</td>\n",
       "    </tr>\n",
       "    <tr>\n",
       "      <th>6</th>\n",
       "      <td>7</td>\n",
       "      <td>2020-09-25</td>\n",
       "      <td>07:30:00</td>\n",
       "      <td>Dubai</td>\n",
       "      <td>DC</td>\n",
       "      <td>CSK</td>\n",
       "      <td>175</td>\n",
       "      <td>3</td>\n",
       "      <td>131</td>\n",
       "      <td>7</td>\n",
       "      <td>Batting 1st</td>\n",
       "      <td>DC</td>\n",
       "      <td>CSK</td>\n",
       "      <td>No</td>\n",
       "      <td>DC won by 44 runs</td>\n",
       "    </tr>\n",
       "    <tr>\n",
       "      <th>7</th>\n",
       "      <td>8</td>\n",
       "      <td>2020-09-26</td>\n",
       "      <td>07:30:00</td>\n",
       "      <td>Abu Dhabi</td>\n",
       "      <td>SRH</td>\n",
       "      <td>KKR</td>\n",
       "      <td>142</td>\n",
       "      <td>4</td>\n",
       "      <td>145</td>\n",
       "      <td>3</td>\n",
       "      <td>Chasing</td>\n",
       "      <td>KKR</td>\n",
       "      <td>SRH</td>\n",
       "      <td>No</td>\n",
       "      <td>KKR won by 7 wickets</td>\n",
       "    </tr>\n",
       "    <tr>\n",
       "      <th>8</th>\n",
       "      <td>9</td>\n",
       "      <td>2020-09-27</td>\n",
       "      <td>07:30:00</td>\n",
       "      <td>Sharjah</td>\n",
       "      <td>KXIP</td>\n",
       "      <td>RR</td>\n",
       "      <td>223</td>\n",
       "      <td>2</td>\n",
       "      <td>226</td>\n",
       "      <td>6</td>\n",
       "      <td>Chasing</td>\n",
       "      <td>RR</td>\n",
       "      <td>KXIP</td>\n",
       "      <td>No</td>\n",
       "      <td>RR won by 4 wickets</td>\n",
       "    </tr>\n",
       "    <tr>\n",
       "      <th>9</th>\n",
       "      <td>10</td>\n",
       "      <td>2020-09-28</td>\n",
       "      <td>07:30:00</td>\n",
       "      <td>Dubai</td>\n",
       "      <td>RCB</td>\n",
       "      <td>MI</td>\n",
       "      <td>201</td>\n",
       "      <td>3</td>\n",
       "      <td>201</td>\n",
       "      <td>5</td>\n",
       "      <td>Match-Tied</td>\n",
       "      <td>RCB</td>\n",
       "      <td>MI</td>\n",
       "      <td>Yes</td>\n",
       "      <td>RCB won super over</td>\n",
       "    </tr>\n",
       "    <tr>\n",
       "      <th>10</th>\n",
       "      <td>11</td>\n",
       "      <td>2020-09-29</td>\n",
       "      <td>07:30:00</td>\n",
       "      <td>Abu Dhabi</td>\n",
       "      <td>SRH</td>\n",
       "      <td>DC</td>\n",
       "      <td>162</td>\n",
       "      <td>4</td>\n",
       "      <td>147</td>\n",
       "      <td>7</td>\n",
       "      <td>Batting 1st</td>\n",
       "      <td>SRH</td>\n",
       "      <td>DC</td>\n",
       "      <td>No</td>\n",
       "      <td>SRH won by 15 runs</td>\n",
       "    </tr>\n",
       "    <tr>\n",
       "      <th>11</th>\n",
       "      <td>12</td>\n",
       "      <td>2020-09-30</td>\n",
       "      <td>07:30:00</td>\n",
       "      <td>Dubai</td>\n",
       "      <td>KKR</td>\n",
       "      <td>RR</td>\n",
       "      <td>174</td>\n",
       "      <td>6</td>\n",
       "      <td>137</td>\n",
       "      <td>9</td>\n",
       "      <td>Batting 1st</td>\n",
       "      <td>KKR</td>\n",
       "      <td>RR</td>\n",
       "      <td>No</td>\n",
       "      <td>KKR won by 37 runs</td>\n",
       "    </tr>\n",
       "    <tr>\n",
       "      <th>12</th>\n",
       "      <td>13</td>\n",
       "      <td>2020-10-01</td>\n",
       "      <td>07:30:00</td>\n",
       "      <td>Abu Dhabi</td>\n",
       "      <td>MI</td>\n",
       "      <td>KXIP</td>\n",
       "      <td>191</td>\n",
       "      <td>4</td>\n",
       "      <td>143</td>\n",
       "      <td>8</td>\n",
       "      <td>Batting 1st</td>\n",
       "      <td>MI</td>\n",
       "      <td>KXIP</td>\n",
       "      <td>No</td>\n",
       "      <td>MI won by 48 runs</td>\n",
       "    </tr>\n",
       "    <tr>\n",
       "      <th>13</th>\n",
       "      <td>14</td>\n",
       "      <td>2020-10-02</td>\n",
       "      <td>07:30:00</td>\n",
       "      <td>Dubai</td>\n",
       "      <td>SRH</td>\n",
       "      <td>CSK</td>\n",
       "      <td>164</td>\n",
       "      <td>5</td>\n",
       "      <td>157</td>\n",
       "      <td>5</td>\n",
       "      <td>Batting 1st</td>\n",
       "      <td>SRH</td>\n",
       "      <td>CSK</td>\n",
       "      <td>No</td>\n",
       "      <td>SRH won by 7 runs</td>\n",
       "    </tr>\n",
       "    <tr>\n",
       "      <th>14</th>\n",
       "      <td>15</td>\n",
       "      <td>2020-10-03</td>\n",
       "      <td>03:30:00</td>\n",
       "      <td>Abu Dhabi</td>\n",
       "      <td>RR</td>\n",
       "      <td>RCB</td>\n",
       "      <td>154</td>\n",
       "      <td>6</td>\n",
       "      <td>158</td>\n",
       "      <td>2</td>\n",
       "      <td>Chasing</td>\n",
       "      <td>RCB</td>\n",
       "      <td>RR</td>\n",
       "      <td>No</td>\n",
       "      <td>RCB won by 8 Wickets</td>\n",
       "    </tr>\n",
       "    <tr>\n",
       "      <th>15</th>\n",
       "      <td>16</td>\n",
       "      <td>2020-10-03</td>\n",
       "      <td>07:30:00</td>\n",
       "      <td>Sharjah</td>\n",
       "      <td>DC</td>\n",
       "      <td>KKR</td>\n",
       "      <td>228</td>\n",
       "      <td>4</td>\n",
       "      <td>210</td>\n",
       "      <td>8</td>\n",
       "      <td>Batting 1st</td>\n",
       "      <td>DC</td>\n",
       "      <td>KKR</td>\n",
       "      <td>No</td>\n",
       "      <td>DC won by 18 runs</td>\n",
       "    </tr>\n",
       "    <tr>\n",
       "      <th>16</th>\n",
       "      <td>17</td>\n",
       "      <td>2020-10-04</td>\n",
       "      <td>03:30:00</td>\n",
       "      <td>Sharjah</td>\n",
       "      <td>MI</td>\n",
       "      <td>SRH</td>\n",
       "      <td>208</td>\n",
       "      <td>5</td>\n",
       "      <td>174</td>\n",
       "      <td>7</td>\n",
       "      <td>Batting 1st</td>\n",
       "      <td>MI</td>\n",
       "      <td>SRH</td>\n",
       "      <td>No</td>\n",
       "      <td>MI won by 34 runs</td>\n",
       "    </tr>\n",
       "    <tr>\n",
       "      <th>17</th>\n",
       "      <td>18</td>\n",
       "      <td>2020-10-04</td>\n",
       "      <td>07:30:00</td>\n",
       "      <td>Dubai</td>\n",
       "      <td>KXIP</td>\n",
       "      <td>CSK</td>\n",
       "      <td>178</td>\n",
       "      <td>4</td>\n",
       "      <td>181</td>\n",
       "      <td>0</td>\n",
       "      <td>Chasing</td>\n",
       "      <td>CSK</td>\n",
       "      <td>KXIP</td>\n",
       "      <td>No</td>\n",
       "      <td>CSK won by 10 wickets</td>\n",
       "    </tr>\n",
       "    <tr>\n",
       "      <th>18</th>\n",
       "      <td>19</td>\n",
       "      <td>2020-10-05</td>\n",
       "      <td>07:30:00</td>\n",
       "      <td>Dubai</td>\n",
       "      <td>DC</td>\n",
       "      <td>RCB</td>\n",
       "      <td>196</td>\n",
       "      <td>4</td>\n",
       "      <td>137</td>\n",
       "      <td>9</td>\n",
       "      <td>Batting 1st</td>\n",
       "      <td>DC</td>\n",
       "      <td>RCB</td>\n",
       "      <td>No</td>\n",
       "      <td>Dc won by 59 runs</td>\n",
       "    </tr>\n",
       "    <tr>\n",
       "      <th>19</th>\n",
       "      <td>20</td>\n",
       "      <td>2020-10-06</td>\n",
       "      <td>07:30:00</td>\n",
       "      <td>Abu Dhabi</td>\n",
       "      <td>MI</td>\n",
       "      <td>RR</td>\n",
       "      <td>193</td>\n",
       "      <td>4</td>\n",
       "      <td>136</td>\n",
       "      <td>10</td>\n",
       "      <td>Batting 1st</td>\n",
       "      <td>MI</td>\n",
       "      <td>RR</td>\n",
       "      <td>No</td>\n",
       "      <td>MI won by 57 runs</td>\n",
       "    </tr>\n",
       "    <tr>\n",
       "      <th>20</th>\n",
       "      <td>21</td>\n",
       "      <td>2020-10-07</td>\n",
       "      <td>07:30:00</td>\n",
       "      <td>Abu Dhabi</td>\n",
       "      <td>KKR</td>\n",
       "      <td>CSK</td>\n",
       "      <td>167</td>\n",
       "      <td>10</td>\n",
       "      <td>157</td>\n",
       "      <td>5</td>\n",
       "      <td>Batting 1st</td>\n",
       "      <td>KKR</td>\n",
       "      <td>CSK</td>\n",
       "      <td>No</td>\n",
       "      <td>KKR won by 10 runs</td>\n",
       "    </tr>\n",
       "    <tr>\n",
       "      <th>21</th>\n",
       "      <td>22</td>\n",
       "      <td>2020-10-08</td>\n",
       "      <td>07:30:00</td>\n",
       "      <td>Dubai</td>\n",
       "      <td>SRH</td>\n",
       "      <td>KXIP</td>\n",
       "      <td>201</td>\n",
       "      <td>6</td>\n",
       "      <td>132</td>\n",
       "      <td>10</td>\n",
       "      <td>Batting 1st</td>\n",
       "      <td>SRH</td>\n",
       "      <td>KXIP</td>\n",
       "      <td>No</td>\n",
       "      <td>SRH won by 69 runs</td>\n",
       "    </tr>\n",
       "    <tr>\n",
       "      <th>22</th>\n",
       "      <td>23</td>\n",
       "      <td>2020-10-09</td>\n",
       "      <td>07:30:00</td>\n",
       "      <td>Sharjah</td>\n",
       "      <td>DC</td>\n",
       "      <td>RR</td>\n",
       "      <td>184</td>\n",
       "      <td>8</td>\n",
       "      <td>138</td>\n",
       "      <td>10</td>\n",
       "      <td>Batting 1st</td>\n",
       "      <td>DC</td>\n",
       "      <td>RR</td>\n",
       "      <td>No</td>\n",
       "      <td>DC won by 46 runs</td>\n",
       "    </tr>\n",
       "    <tr>\n",
       "      <th>23</th>\n",
       "      <td>24</td>\n",
       "      <td>2020-10-10</td>\n",
       "      <td>03:30:00</td>\n",
       "      <td>Abu Dhabi</td>\n",
       "      <td>KKR</td>\n",
       "      <td>KXIP</td>\n",
       "      <td>164</td>\n",
       "      <td>6</td>\n",
       "      <td>162</td>\n",
       "      <td>5</td>\n",
       "      <td>Batting 1st</td>\n",
       "      <td>KKR</td>\n",
       "      <td>KXIP</td>\n",
       "      <td>No</td>\n",
       "      <td>KKR won by 2 runs</td>\n",
       "    </tr>\n",
       "    <tr>\n",
       "      <th>24</th>\n",
       "      <td>25</td>\n",
       "      <td>2020-10-10</td>\n",
       "      <td>07:30:00</td>\n",
       "      <td>Dubai</td>\n",
       "      <td>RCB</td>\n",
       "      <td>CSK</td>\n",
       "      <td>169</td>\n",
       "      <td>4</td>\n",
       "      <td>132</td>\n",
       "      <td>8</td>\n",
       "      <td>Batting 1st</td>\n",
       "      <td>RCB</td>\n",
       "      <td>CSK</td>\n",
       "      <td>No</td>\n",
       "      <td>RCB won by 37 runs</td>\n",
       "    </tr>\n",
       "    <tr>\n",
       "      <th>25</th>\n",
       "      <td>26</td>\n",
       "      <td>2020-10-11</td>\n",
       "      <td>03:30:00</td>\n",
       "      <td>Dubai</td>\n",
       "      <td>SRH</td>\n",
       "      <td>RR</td>\n",
       "      <td>158</td>\n",
       "      <td>4</td>\n",
       "      <td>163</td>\n",
       "      <td>5</td>\n",
       "      <td>Chasing</td>\n",
       "      <td>RR</td>\n",
       "      <td>SRH</td>\n",
       "      <td>No</td>\n",
       "      <td>RR won by 5 wickets</td>\n",
       "    </tr>\n",
       "    <tr>\n",
       "      <th>26</th>\n",
       "      <td>27</td>\n",
       "      <td>2020-10-11</td>\n",
       "      <td>07:30:00</td>\n",
       "      <td>Abu Dhabi</td>\n",
       "      <td>DC</td>\n",
       "      <td>MI</td>\n",
       "      <td>162</td>\n",
       "      <td>4</td>\n",
       "      <td>166</td>\n",
       "      <td>5</td>\n",
       "      <td>Chasing</td>\n",
       "      <td>MI</td>\n",
       "      <td>DC</td>\n",
       "      <td>No</td>\n",
       "      <td>MI won by 5 wickets</td>\n",
       "    </tr>\n",
       "    <tr>\n",
       "      <th>27</th>\n",
       "      <td>28</td>\n",
       "      <td>2020-10-12</td>\n",
       "      <td>07:30:00</td>\n",
       "      <td>Sharjah</td>\n",
       "      <td>RCB</td>\n",
       "      <td>KKR</td>\n",
       "      <td>194</td>\n",
       "      <td>2</td>\n",
       "      <td>112</td>\n",
       "      <td>9</td>\n",
       "      <td>Batting 1st</td>\n",
       "      <td>RCB</td>\n",
       "      <td>KKR</td>\n",
       "      <td>No</td>\n",
       "      <td>RCB won by 82 runs</td>\n",
       "    </tr>\n",
       "    <tr>\n",
       "      <th>28</th>\n",
       "      <td>29</td>\n",
       "      <td>2020-10-13</td>\n",
       "      <td>07:30:00</td>\n",
       "      <td>Dubai</td>\n",
       "      <td>CSK</td>\n",
       "      <td>SRH</td>\n",
       "      <td>167</td>\n",
       "      <td>6</td>\n",
       "      <td>147</td>\n",
       "      <td>8</td>\n",
       "      <td>Batting 1st</td>\n",
       "      <td>CSK</td>\n",
       "      <td>SRH</td>\n",
       "      <td>No</td>\n",
       "      <td>CSK won by 20 runs</td>\n",
       "    </tr>\n",
       "    <tr>\n",
       "      <th>29</th>\n",
       "      <td>30</td>\n",
       "      <td>2020-10-14</td>\n",
       "      <td>07:30:00</td>\n",
       "      <td>Dubai</td>\n",
       "      <td>DC</td>\n",
       "      <td>RR</td>\n",
       "      <td>161</td>\n",
       "      <td>7</td>\n",
       "      <td>148</td>\n",
       "      <td>8</td>\n",
       "      <td>Batting 1st</td>\n",
       "      <td>DC</td>\n",
       "      <td>RR</td>\n",
       "      <td>No</td>\n",
       "      <td>DC won by 13 runs</td>\n",
       "    </tr>\n",
       "    <tr>\n",
       "      <th>30</th>\n",
       "      <td>31</td>\n",
       "      <td>2020-10-15</td>\n",
       "      <td>07:30:00</td>\n",
       "      <td>Sharjah</td>\n",
       "      <td>RCB</td>\n",
       "      <td>KXIP</td>\n",
       "      <td>171</td>\n",
       "      <td>6</td>\n",
       "      <td>177</td>\n",
       "      <td>2</td>\n",
       "      <td>Chasing</td>\n",
       "      <td>KXIP</td>\n",
       "      <td>RCB</td>\n",
       "      <td>No</td>\n",
       "      <td>KXIP won by 8 wickets</td>\n",
       "    </tr>\n",
       "    <tr>\n",
       "      <th>31</th>\n",
       "      <td>32</td>\n",
       "      <td>2020-10-16</td>\n",
       "      <td>07:30:00</td>\n",
       "      <td>Abu Dhabi</td>\n",
       "      <td>KKR</td>\n",
       "      <td>MI</td>\n",
       "      <td>148</td>\n",
       "      <td>5</td>\n",
       "      <td>149</td>\n",
       "      <td>2</td>\n",
       "      <td>Chasing</td>\n",
       "      <td>MI</td>\n",
       "      <td>KKR</td>\n",
       "      <td>No</td>\n",
       "      <td>MI won by 8 wickets</td>\n",
       "    </tr>\n",
       "    <tr>\n",
       "      <th>32</th>\n",
       "      <td>33</td>\n",
       "      <td>2020-10-17</td>\n",
       "      <td>03:30:00</td>\n",
       "      <td>Dubai</td>\n",
       "      <td>RR</td>\n",
       "      <td>RCB</td>\n",
       "      <td>177</td>\n",
       "      <td>6</td>\n",
       "      <td>179</td>\n",
       "      <td>3</td>\n",
       "      <td>Chasing</td>\n",
       "      <td>RCB</td>\n",
       "      <td>RR</td>\n",
       "      <td>No</td>\n",
       "      <td>RCB won by 7 wickets</td>\n",
       "    </tr>\n",
       "    <tr>\n",
       "      <th>33</th>\n",
       "      <td>34</td>\n",
       "      <td>2020-10-17</td>\n",
       "      <td>07:30:00</td>\n",
       "      <td>Sharjah</td>\n",
       "      <td>CSK</td>\n",
       "      <td>DC</td>\n",
       "      <td>179</td>\n",
       "      <td>4</td>\n",
       "      <td>185</td>\n",
       "      <td>5</td>\n",
       "      <td>Chasing</td>\n",
       "      <td>DC</td>\n",
       "      <td>CSK</td>\n",
       "      <td>No</td>\n",
       "      <td>DC won by 5 wickets</td>\n",
       "    </tr>\n",
       "    <tr>\n",
       "      <th>34</th>\n",
       "      <td>35</td>\n",
       "      <td>2020-10-18</td>\n",
       "      <td>03:30:00</td>\n",
       "      <td>Abu Dhabi</td>\n",
       "      <td>KKR</td>\n",
       "      <td>SRH</td>\n",
       "      <td>163</td>\n",
       "      <td>5</td>\n",
       "      <td>163</td>\n",
       "      <td>6</td>\n",
       "      <td>Match-Tied</td>\n",
       "      <td>KKR</td>\n",
       "      <td>SRH</td>\n",
       "      <td>Yes</td>\n",
       "      <td>KKR won the super over</td>\n",
       "    </tr>\n",
       "    <tr>\n",
       "      <th>35</th>\n",
       "      <td>36</td>\n",
       "      <td>2020-10-18</td>\n",
       "      <td>07:30:00</td>\n",
       "      <td>Dubai</td>\n",
       "      <td>MI</td>\n",
       "      <td>KXIP</td>\n",
       "      <td>176</td>\n",
       "      <td>6</td>\n",
       "      <td>176</td>\n",
       "      <td>6</td>\n",
       "      <td>Match-Tied</td>\n",
       "      <td>KXIP</td>\n",
       "      <td>MI</td>\n",
       "      <td>Yes</td>\n",
       "      <td>KXIP won the 2nd Super Over</td>\n",
       "    </tr>\n",
       "    <tr>\n",
       "      <th>36</th>\n",
       "      <td>37</td>\n",
       "      <td>2020-10-19</td>\n",
       "      <td>07:30:00</td>\n",
       "      <td>Abu Dhabi</td>\n",
       "      <td>CSK</td>\n",
       "      <td>RR</td>\n",
       "      <td>125</td>\n",
       "      <td>5</td>\n",
       "      <td>126</td>\n",
       "      <td>3</td>\n",
       "      <td>Chasing</td>\n",
       "      <td>RR</td>\n",
       "      <td>CSK</td>\n",
       "      <td>No</td>\n",
       "      <td>RR won by 7 wickets</td>\n",
       "    </tr>\n",
       "    <tr>\n",
       "      <th>37</th>\n",
       "      <td>38</td>\n",
       "      <td>2020-10-20</td>\n",
       "      <td>07:30:00</td>\n",
       "      <td>Dubai</td>\n",
       "      <td>DC</td>\n",
       "      <td>KXIP</td>\n",
       "      <td>164</td>\n",
       "      <td>5</td>\n",
       "      <td>167</td>\n",
       "      <td>5</td>\n",
       "      <td>Chasing</td>\n",
       "      <td>KXIP</td>\n",
       "      <td>DC</td>\n",
       "      <td>No</td>\n",
       "      <td>KXIP won by 5 wickets</td>\n",
       "    </tr>\n",
       "    <tr>\n",
       "      <th>38</th>\n",
       "      <td>39</td>\n",
       "      <td>2020-10-21</td>\n",
       "      <td>07:30:00</td>\n",
       "      <td>Abu Dhabi</td>\n",
       "      <td>KKR</td>\n",
       "      <td>RCB</td>\n",
       "      <td>84</td>\n",
       "      <td>8</td>\n",
       "      <td>85</td>\n",
       "      <td>2</td>\n",
       "      <td>Chasing</td>\n",
       "      <td>RCB</td>\n",
       "      <td>KKR</td>\n",
       "      <td>No</td>\n",
       "      <td>RCB won by 8 Wickets</td>\n",
       "    </tr>\n",
       "    <tr>\n",
       "      <th>39</th>\n",
       "      <td>40</td>\n",
       "      <td>2020-10-22</td>\n",
       "      <td>07:30:00</td>\n",
       "      <td>Dubai</td>\n",
       "      <td>RR</td>\n",
       "      <td>SRH</td>\n",
       "      <td>154</td>\n",
       "      <td>6</td>\n",
       "      <td>156</td>\n",
       "      <td>2</td>\n",
       "      <td>Chasing</td>\n",
       "      <td>SRH</td>\n",
       "      <td>RR</td>\n",
       "      <td>No</td>\n",
       "      <td>SRH won by 8 wickets</td>\n",
       "    </tr>\n",
       "    <tr>\n",
       "      <th>40</th>\n",
       "      <td>41</td>\n",
       "      <td>2020-10-23</td>\n",
       "      <td>07:30:00</td>\n",
       "      <td>Sharjah</td>\n",
       "      <td>CSK</td>\n",
       "      <td>MI</td>\n",
       "      <td>114</td>\n",
       "      <td>9</td>\n",
       "      <td>116</td>\n",
       "      <td>0</td>\n",
       "      <td>Chasing</td>\n",
       "      <td>MI</td>\n",
       "      <td>CSK</td>\n",
       "      <td>No</td>\n",
       "      <td>MI won by 10 wickets</td>\n",
       "    </tr>\n",
       "    <tr>\n",
       "      <th>41</th>\n",
       "      <td>42</td>\n",
       "      <td>2020-10-24</td>\n",
       "      <td>03:30:00</td>\n",
       "      <td>Abu Dhabi</td>\n",
       "      <td>KKR</td>\n",
       "      <td>DC</td>\n",
       "      <td>194</td>\n",
       "      <td>6</td>\n",
       "      <td>135</td>\n",
       "      <td>9</td>\n",
       "      <td>Batting 1st</td>\n",
       "      <td>KKR</td>\n",
       "      <td>DC</td>\n",
       "      <td>No</td>\n",
       "      <td>KKR won by 59 runs</td>\n",
       "    </tr>\n",
       "    <tr>\n",
       "      <th>42</th>\n",
       "      <td>43</td>\n",
       "      <td>2020-10-24</td>\n",
       "      <td>07:30:00</td>\n",
       "      <td>Dubai</td>\n",
       "      <td>KXIP</td>\n",
       "      <td>SRH</td>\n",
       "      <td>126</td>\n",
       "      <td>7</td>\n",
       "      <td>114</td>\n",
       "      <td>10</td>\n",
       "      <td>Batting 1st</td>\n",
       "      <td>KXIP</td>\n",
       "      <td>SRH</td>\n",
       "      <td>No</td>\n",
       "      <td>KXIP won by 12 runs</td>\n",
       "    </tr>\n",
       "    <tr>\n",
       "      <th>43</th>\n",
       "      <td>44</td>\n",
       "      <td>2020-10-25</td>\n",
       "      <td>03:30:00</td>\n",
       "      <td>Dubai</td>\n",
       "      <td>RCB</td>\n",
       "      <td>CSK</td>\n",
       "      <td>145</td>\n",
       "      <td>6</td>\n",
       "      <td>150</td>\n",
       "      <td>2</td>\n",
       "      <td>Chasing</td>\n",
       "      <td>CSK</td>\n",
       "      <td>RCB</td>\n",
       "      <td>No</td>\n",
       "      <td>CSK won by 8 wickets</td>\n",
       "    </tr>\n",
       "    <tr>\n",
       "      <th>44</th>\n",
       "      <td>45</td>\n",
       "      <td>2020-10-25</td>\n",
       "      <td>07:30:00</td>\n",
       "      <td>Abu Dhabi</td>\n",
       "      <td>MI</td>\n",
       "      <td>RR</td>\n",
       "      <td>195</td>\n",
       "      <td>5</td>\n",
       "      <td>196</td>\n",
       "      <td>2</td>\n",
       "      <td>Chasing</td>\n",
       "      <td>RR</td>\n",
       "      <td>MI</td>\n",
       "      <td>No</td>\n",
       "      <td>RR won by 8 wickets</td>\n",
       "    </tr>\n",
       "    <tr>\n",
       "      <th>45</th>\n",
       "      <td>46</td>\n",
       "      <td>2020-10-26</td>\n",
       "      <td>07:30:00</td>\n",
       "      <td>Sharjah</td>\n",
       "      <td>KKR</td>\n",
       "      <td>KXIP</td>\n",
       "      <td>149</td>\n",
       "      <td>9</td>\n",
       "      <td>150</td>\n",
       "      <td>2</td>\n",
       "      <td>Chasing</td>\n",
       "      <td>KXIP</td>\n",
       "      <td>KKR</td>\n",
       "      <td>No</td>\n",
       "      <td>KXIP won by 8 wickets</td>\n",
       "    </tr>\n",
       "    <tr>\n",
       "      <th>46</th>\n",
       "      <td>47</td>\n",
       "      <td>2020-10-27</td>\n",
       "      <td>07:30:00</td>\n",
       "      <td>Dubai</td>\n",
       "      <td>SRH</td>\n",
       "      <td>DC</td>\n",
       "      <td>219</td>\n",
       "      <td>2</td>\n",
       "      <td>131</td>\n",
       "      <td>10</td>\n",
       "      <td>Batting 1st</td>\n",
       "      <td>SRH</td>\n",
       "      <td>DC</td>\n",
       "      <td>No</td>\n",
       "      <td>SRH won by 88 runs</td>\n",
       "    </tr>\n",
       "    <tr>\n",
       "      <th>47</th>\n",
       "      <td>48</td>\n",
       "      <td>2020-10-28</td>\n",
       "      <td>07:30:00</td>\n",
       "      <td>Abu Dhabi</td>\n",
       "      <td>RCB</td>\n",
       "      <td>MI</td>\n",
       "      <td>164</td>\n",
       "      <td>6</td>\n",
       "      <td>166</td>\n",
       "      <td>5</td>\n",
       "      <td>Chasing</td>\n",
       "      <td>MI</td>\n",
       "      <td>RCB</td>\n",
       "      <td>No</td>\n",
       "      <td>MI won by 5 wickets</td>\n",
       "    </tr>\n",
       "  </tbody>\n",
       "</table>\n",
       "</div>"
      ],
      "text/plain": [
       "    Match Number       Date Match Time      Venue Batting 1st Chasing  Runs-1  \\\n",
       "0              1 2020-09-19   07:30:00  Abu Dhabi          MI     CSK     162   \n",
       "1              2 2020-09-20   07:30:00      Dubai          DC    KXIP     157   \n",
       "2              3 2020-09-21   07:30:00      Dubai         RCB     SRH     163   \n",
       "3              4 2020-09-22   07:30:00    Sharjah          RR     CSK     216   \n",
       "4              5 2020-09-23   07:30:00  Abu Dhabi          MI     KKR     195   \n",
       "5              6 2020-09-24   07:30:00      Dubai        KXIP     RCB     206   \n",
       "6              7 2020-09-25   07:30:00      Dubai          DC     CSK     175   \n",
       "7              8 2020-09-26   07:30:00  Abu Dhabi         SRH     KKR     142   \n",
       "8              9 2020-09-27   07:30:00    Sharjah        KXIP      RR     223   \n",
       "9             10 2020-09-28   07:30:00      Dubai         RCB      MI     201   \n",
       "10            11 2020-09-29   07:30:00  Abu Dhabi         SRH      DC     162   \n",
       "11            12 2020-09-30   07:30:00      Dubai         KKR      RR     174   \n",
       "12            13 2020-10-01   07:30:00  Abu Dhabi          MI    KXIP     191   \n",
       "13            14 2020-10-02   07:30:00      Dubai         SRH     CSK     164   \n",
       "14            15 2020-10-03   03:30:00  Abu Dhabi          RR     RCB     154   \n",
       "15            16 2020-10-03   07:30:00    Sharjah          DC     KKR     228   \n",
       "16            17 2020-10-04   03:30:00    Sharjah          MI     SRH     208   \n",
       "17            18 2020-10-04   07:30:00      Dubai        KXIP     CSK     178   \n",
       "18            19 2020-10-05   07:30:00      Dubai          DC     RCB     196   \n",
       "19            20 2020-10-06   07:30:00  Abu Dhabi          MI      RR     193   \n",
       "20            21 2020-10-07   07:30:00  Abu Dhabi         KKR     CSK     167   \n",
       "21            22 2020-10-08   07:30:00      Dubai         SRH    KXIP     201   \n",
       "22            23 2020-10-09   07:30:00    Sharjah          DC      RR     184   \n",
       "23            24 2020-10-10   03:30:00  Abu Dhabi         KKR    KXIP     164   \n",
       "24            25 2020-10-10   07:30:00      Dubai         RCB     CSK     169   \n",
       "25            26 2020-10-11   03:30:00      Dubai         SRH      RR     158   \n",
       "26            27 2020-10-11   07:30:00  Abu Dhabi          DC      MI     162   \n",
       "27            28 2020-10-12   07:30:00    Sharjah         RCB     KKR     194   \n",
       "28            29 2020-10-13   07:30:00      Dubai         CSK     SRH     167   \n",
       "29            30 2020-10-14   07:30:00      Dubai          DC      RR     161   \n",
       "30            31 2020-10-15   07:30:00    Sharjah         RCB    KXIP     171   \n",
       "31            32 2020-10-16   07:30:00  Abu Dhabi         KKR      MI     148   \n",
       "32            33 2020-10-17   03:30:00      Dubai          RR     RCB     177   \n",
       "33            34 2020-10-17   07:30:00    Sharjah         CSK      DC     179   \n",
       "34            35 2020-10-18   03:30:00  Abu Dhabi         KKR     SRH     163   \n",
       "35            36 2020-10-18   07:30:00      Dubai          MI    KXIP     176   \n",
       "36            37 2020-10-19   07:30:00  Abu Dhabi         CSK      RR     125   \n",
       "37            38 2020-10-20   07:30:00      Dubai          DC    KXIP     164   \n",
       "38            39 2020-10-21   07:30:00  Abu Dhabi         KKR     RCB      84   \n",
       "39            40 2020-10-22   07:30:00      Dubai          RR     SRH     154   \n",
       "40            41 2020-10-23   07:30:00    Sharjah         CSK      MI     114   \n",
       "41            42 2020-10-24   03:30:00  Abu Dhabi         KKR      DC     194   \n",
       "42            43 2020-10-24   07:30:00      Dubai        KXIP     SRH     126   \n",
       "43            44 2020-10-25   03:30:00      Dubai         RCB     CSK     145   \n",
       "44            45 2020-10-25   07:30:00  Abu Dhabi          MI      RR     195   \n",
       "45            46 2020-10-26   07:30:00    Sharjah         KKR    KXIP     149   \n",
       "46            47 2020-10-27   07:30:00      Dubai         SRH      DC     219   \n",
       "47            48 2020-10-28   07:30:00  Abu Dhabi         RCB      MI     164   \n",
       "\n",
       "    Wickets-1  Runs-2  Wickets-2       Result Winner Loser Super Over  \\\n",
       "0           9     166          5      Chasing    CSK    MI         No   \n",
       "1           8     157          8   Match-Tied     DC  KXIP        Yes   \n",
       "2           5     153         10  Batting 1st    RCB   SRH         No   \n",
       "3           7     200          6  Batting 1st     RR   CSK         No   \n",
       "4           5     146          9  Batting 1st     MI   KKR         No   \n",
       "5           3     109         10  Batting 1st   KXIP   RCB         No   \n",
       "6           3     131          7  Batting 1st     DC   CSK         No   \n",
       "7           4     145          3      Chasing    KKR   SRH         No   \n",
       "8           2     226          6      Chasing     RR  KXIP         No   \n",
       "9           3     201          5   Match-Tied    RCB    MI        Yes   \n",
       "10          4     147          7  Batting 1st    SRH    DC         No   \n",
       "11          6     137          9  Batting 1st    KKR    RR         No   \n",
       "12          4     143          8  Batting 1st     MI  KXIP         No   \n",
       "13          5     157          5  Batting 1st    SRH   CSK         No   \n",
       "14          6     158          2      Chasing    RCB    RR         No   \n",
       "15          4     210          8  Batting 1st     DC   KKR         No   \n",
       "16          5     174          7  Batting 1st     MI   SRH         No   \n",
       "17          4     181          0      Chasing    CSK  KXIP         No   \n",
       "18          4     137          9  Batting 1st     DC   RCB         No   \n",
       "19          4     136         10  Batting 1st     MI    RR         No   \n",
       "20         10     157          5  Batting 1st    KKR   CSK         No   \n",
       "21          6     132         10  Batting 1st    SRH  KXIP         No   \n",
       "22          8     138         10  Batting 1st     DC    RR         No   \n",
       "23          6     162          5  Batting 1st    KKR  KXIP         No   \n",
       "24          4     132          8  Batting 1st    RCB   CSK         No   \n",
       "25          4     163          5      Chasing     RR   SRH         No   \n",
       "26          4     166          5      Chasing     MI    DC         No   \n",
       "27          2     112          9  Batting 1st    RCB   KKR         No   \n",
       "28          6     147          8  Batting 1st    CSK   SRH         No   \n",
       "29          7     148          8  Batting 1st     DC    RR         No   \n",
       "30          6     177          2      Chasing   KXIP   RCB         No   \n",
       "31          5     149          2      Chasing     MI   KKR         No   \n",
       "32          6     179          3      Chasing    RCB    RR         No   \n",
       "33          4     185          5      Chasing     DC   CSK         No   \n",
       "34          5     163          6   Match-Tied    KKR   SRH        Yes   \n",
       "35          6     176          6   Match-Tied   KXIP    MI        Yes   \n",
       "36          5     126          3      Chasing     RR   CSK         No   \n",
       "37          5     167          5      Chasing   KXIP    DC         No   \n",
       "38          8      85          2      Chasing    RCB   KKR         No   \n",
       "39          6     156          2      Chasing    SRH    RR         No   \n",
       "40          9     116          0      Chasing     MI   CSK         No   \n",
       "41          6     135          9  Batting 1st    KKR    DC         No   \n",
       "42          7     114         10  Batting 1st   KXIP   SRH         No   \n",
       "43          6     150          2      Chasing    CSK   RCB         No   \n",
       "44          5     196          2      Chasing     RR    MI         No   \n",
       "45          9     150          2      Chasing   KXIP   KKR         No   \n",
       "46          2     131         10  Batting 1st    SRH    DC         No   \n",
       "47          6     166          5      Chasing     MI   RCB         No   \n",
       "\n",
       "                   Match Result  \n",
       "0          CSK won by 5 wickets  \n",
       "1             DC won super over  \n",
       "2            RCB won by 10 runs  \n",
       "3             RR won by 16 runs  \n",
       "4             MI won by 49 runs  \n",
       "5              KXIP won 97 runs  \n",
       "6             DC won by 44 runs  \n",
       "7          KKR won by 7 wickets  \n",
       "8           RR won by 4 wickets  \n",
       "9            RCB won super over  \n",
       "10           SRH won by 15 runs  \n",
       "11           KKR won by 37 runs  \n",
       "12            MI won by 48 runs  \n",
       "13            SRH won by 7 runs  \n",
       "14         RCB won by 8 Wickets  \n",
       "15            DC won by 18 runs  \n",
       "16            MI won by 34 runs  \n",
       "17        CSK won by 10 wickets  \n",
       "18            Dc won by 59 runs  \n",
       "19            MI won by 57 runs  \n",
       "20           KKR won by 10 runs  \n",
       "21           SRH won by 69 runs  \n",
       "22            DC won by 46 runs  \n",
       "23            KKR won by 2 runs  \n",
       "24           RCB won by 37 runs  \n",
       "25          RR won by 5 wickets  \n",
       "26          MI won by 5 wickets  \n",
       "27           RCB won by 82 runs  \n",
       "28           CSK won by 20 runs  \n",
       "29            DC won by 13 runs  \n",
       "30        KXIP won by 8 wickets  \n",
       "31          MI won by 8 wickets  \n",
       "32         RCB won by 7 wickets  \n",
       "33          DC won by 5 wickets  \n",
       "34       KKR won the super over  \n",
       "35  KXIP won the 2nd Super Over  \n",
       "36          RR won by 7 wickets  \n",
       "37        KXIP won by 5 wickets  \n",
       "38         RCB won by 8 Wickets  \n",
       "39         SRH won by 8 wickets  \n",
       "40         MI won by 10 wickets  \n",
       "41           KKR won by 59 runs  \n",
       "42          KXIP won by 12 runs  \n",
       "43         CSK won by 8 wickets  \n",
       "44          RR won by 8 wickets  \n",
       "45        KXIP won by 8 wickets  \n",
       "46           SRH won by 88 runs  \n",
       "47          MI won by 5 wickets  "
      ]
     },
     "execution_count": 241,
     "metadata": {},
     "output_type": "execute_result"
    }
   ],
   "source": [
    "#IPL-2020 Data\n",
    "df = pd.read_excel('C:/Users/Pakhar Rao/Desktop/MatchInsights.xlsx')\n",
    "df"
   ]
  },
  {
   "cell_type": "code",
   "execution_count": 242,
   "metadata": {
    "scrolled": true
   },
   "outputs": [
    {
     "data": {
      "text/plain": [
       "Dubai        21\n",
       "Abu Dhabi    17\n",
       "Sharjah      10\n",
       "Name: Venue, dtype: int64"
      ]
     },
     "execution_count": 242,
     "metadata": {},
     "output_type": "execute_result"
    }
   ],
   "source": [
    "#Number of matches played at different venues\n",
    "df['Venue'].value_counts()"
   ]
  },
  {
   "cell_type": "code",
   "execution_count": 243,
   "metadata": {},
   "outputs": [
    {
     "data": {
      "text/plain": [
       "count     48.000000\n",
       "mean     172.125000\n",
       "std       28.373366\n",
       "min       84.000000\n",
       "25%      160.250000\n",
       "50%      168.000000\n",
       "75%      194.000000\n",
       "max      228.000000\n",
       "Name: Runs-1, dtype: float64"
      ]
     },
     "execution_count": 243,
     "metadata": {},
     "output_type": "execute_result"
    }
   ],
   "source": [
    "#Analysis of runs scored when batting first\n",
    "df['Runs-1'].describe()"
   ]
  },
  {
   "cell_type": "markdown",
   "metadata": {},
   "source": [
    " Average Score of IPL 2020 upto Match 48 is 172 runs. Minimum Score is 84 and Maximum is 228."
   ]
  },
  {
   "cell_type": "code",
   "execution_count": 244,
   "metadata": {},
   "outputs": [
    {
     "data": {
      "text/plain": [
       "<matplotlib.axes._subplots.AxesSubplot at 0x23320a07550>"
      ]
     },
     "execution_count": 244,
     "metadata": {},
     "output_type": "execute_result"
    },
    {
     "data": {
      "image/png": "[encoded data removed]",
      "text/plain": [
       "<Figure size 432x288 with 1 Axes>"
      ]
     },
     "metadata": {
      "needs_background": "light"
     },
     "output_type": "display_data"
    }
   ],
   "source": [
    "df['Runs-1'].plot.hist(bins=3)"
   ]
  },
  {
   "cell_type": "markdown",
   "metadata": {},
   "source": [
    "First Inning score was between 135-180 in more than 25 matches. First Inning score was more than 180 in around 15 matches, and < 135 in less than 5 matches."
   ]
  },
  {
   "cell_type": "code",
   "execution_count": 245,
   "metadata": {},
   "outputs": [
    {
     "data": {
      "text/plain": [
       "<matplotlib.axes._subplots.AxesSubplot at 0x2332598aa58>"
      ]
     },
     "execution_count": 245,
     "metadata": {},
     "output_type": "execute_result"
    },
    {
     "data": {
      "image/png": "[encoded data removed]",
      "text/plain": [
       "<Figure size 432x288 with 1 Axes>"
      ]
     },
     "metadata": {
      "needs_background": "light"
     },
     "output_type": "display_data"
    }
   ],
   "source": [
    "df['Wickets-1'].plot.hist(bins=3, color='black')"
   ]
  },
  {
   "cell_type": "markdown",
   "metadata": {},
   "source": [
    "In ~24 matches, wickets lost in first inning was between 5-7; 2-4 wickets in ~17 matches and more than 7 wickets in around 7 matches."
   ]
  },
  {
   "cell_type": "code",
   "execution_count": 246,
   "metadata": {},
   "outputs": [
    {
     "data": {
      "text/plain": [
       "<matplotlib.axes._subplots.AxesSubplot at 0x233259eaba8>"
      ]
     },
     "execution_count": 246,
     "metadata": {},
     "output_type": "execute_result"
    },
    {
     "data": {
      "image/png": "[encoded data removed]",
      "text/plain": [
       "<Figure size 432x288 with 1 Axes>"
      ]
     },
     "metadata": {
      "needs_background": "light"
     },
     "output_type": "display_data"
    }
   ],
   "source": [
    "df['Runs-2'].plot.hist(bins=3, color='cyan')"
   ]
  },
  {
   "cell_type": "markdown",
   "metadata": {},
   "source": [
    "Most of the matches(>30) saw the chasing side score between 135-180 runs. 8 matches saw scores greater than 180, while 8 matches saw scores less than 135 while chasing."
   ]
  },
  {
   "cell_type": "code",
   "execution_count": 247,
   "metadata": {},
   "outputs": [
    {
     "data": {
      "text/plain": [
       "<matplotlib.axes._subplots.AxesSubplot at 0x233259dacc0>"
      ]
     },
     "execution_count": 247,
     "metadata": {},
     "output_type": "execute_result"
    },
    {
     "data": {
      "image/png": "[encoded data removed]",
      "text/plain": [
       "<Figure size 432x288 with 1 Axes>"
      ]
     },
     "metadata": {
      "needs_background": "light"
     },
     "output_type": "display_data"
    }
   ],
   "source": [
    "df['Wickets-2'].plot.hist(bins=5, color='green')"
   ]
  },
  {
   "cell_type": "markdown",
   "metadata": {},
   "source": [
    "In 18 matches, the chasing side lost 8 to 10 wickets. Only 2 matches saw the chasing side losing 2 wickets, while in around 21 matches, the chasing team lost 2-6 wickets."
   ]
  },
  {
   "cell_type": "code",
   "execution_count": 248,
   "metadata": {},
   "outputs": [
    {
     "data": {
      "text/plain": [
       "<matplotlib.axes._subplots.AxesSubplot at 0x23325aa89e8>"
      ]
     },
     "execution_count": 248,
     "metadata": {},
     "output_type": "execute_result"
    },
    {
     "data": {
      "image/png": "[encoded data removed]",
      "text/plain": [
       "<Figure size 432x288 with 1 Axes>"
      ]
     },
     "metadata": {
      "needs_background": "light"
     },
     "output_type": "display_data"
    }
   ],
   "source": [
    "#Checking if there is a correlation between losing 8 or more wickets and losing:\n",
    "df1 = df[df['Wickets-2']>= 8]\n",
    "\n",
    "df1['Result'].value_counts().plot.bar(color='red')"
   ]
  },
  {
   "cell_type": "markdown",
   "metadata": {},
   "source": [
    "The chasing team lost 17 out of 18 matches when they lost more than 7 wickets, while one resulted in a tie!"
   ]
  },
  {
   "cell_type": "code",
   "execution_count": 329,
   "metadata": {},
   "outputs": [
    {
     "name": "stdout",
     "output_type": "stream",
     "text": [
      "258\n"
     ]
    },
    {
     "data": {
      "image/png": "[encoded data removed]",
      "text/plain": [
       "<Figure size 432x288 with 1 Axes>"
      ]
     },
     "metadata": {
      "needs_background": "light"
     },
     "output_type": "display_data"
    }
   ],
   "source": [
    "#Checking the trends in wickets lost in Inning 1\n",
    "df.groupby('Wickets-1')['Wickets-1'].count().plot.bar(color='navy')\n",
    "print(df['Wickets-1'].sum())"
   ]
  },
  {
   "cell_type": "markdown",
   "metadata": {},
   "source": [
    "In 32 out of 48 matches, wickets lost in first inning were 4-6, while 10 matches saw more than 6 wickets falling. Only 6 matches saw less than 4 wickets lost in Inning-1. Total wickets lost so far by the defending team is 258."
   ]
  },
  {
   "cell_type": "code",
   "execution_count": 250,
   "metadata": {},
   "outputs": [
    {
     "name": "stdout",
     "output_type": "stream",
     "text": [
      "283\n"
     ]
    },
    {
     "data": {
      "text/plain": [
       "<matplotlib.axes._subplots.AxesSubplot at 0x23325b96400>"
      ]
     },
     "execution_count": 250,
     "metadata": {},
     "output_type": "execute_result"
    },
    {
     "data": {
      "image/png": "[encoded data removed]",
      "text/plain": [
       "<Figure size 432x288 with 1 Axes>"
      ]
     },
     "metadata": {
      "needs_background": "light"
     },
     "output_type": "display_data"
    }
   ],
   "source": [
    "print(df['Wickets-2'].sum())\n",
    "df.groupby('Wickets-2')['Wickets-2'].count().plot.bar(color='green')"
   ]
  },
  {
   "cell_type": "markdown",
   "metadata": {},
   "source": [
    "Wickets lost by the chasing team is more evenly distributed compared to the Inning-1 wickets."
   ]
  },
  {
   "cell_type": "code",
   "execution_count": 251,
   "metadata": {},
   "outputs": [
    {
     "data": {
      "text/plain": [
       "<matplotlib.axes._subplots.AxesSubplot at 0x23325be7128>"
      ]
     },
     "execution_count": 251,
     "metadata": {},
     "output_type": "execute_result"
    },
    {
     "data": {
      "image/png": "[encoded data removed]",
      "text/plain": [
       "<Figure size 432x288 with 1 Axes>"
      ]
     },
     "metadata": {
      "needs_background": "light"
     },
     "output_type": "display_data"
    }
   ],
   "source": [
    "#Checking what happened when chasing side lost less than 5 wickets:\n",
    "df[df['Wickets-2']<5]['Result'].value_counts().plot.bar(color='cyan')"
   ]
  },
  {
   "cell_type": "markdown",
   "metadata": {},
   "source": [
    "Whenever the chasing team lost less than 5 wickets, it won the game!"
   ]
  },
  {
   "cell_type": "code",
   "execution_count": 252,
   "metadata": {},
   "outputs": [
    {
     "data": {
      "text/plain": [
       "<matplotlib.axes._subplots.AxesSubplot at 0x23325c3ba20>"
      ]
     },
     "execution_count": 252,
     "metadata": {},
     "output_type": "execute_result"
    },
    {
     "data": {
      "image/png": "[encoded data removed]",
      "text/plain": [
       "<Figure size 432x288 with 1 Axes>"
      ]
     },
     "metadata": {
      "needs_background": "light"
     },
     "output_type": "display_data"
    }
   ],
   "source": [
    "#Checking what happened when the chasing side lost more than 5 wickets\n",
    "df[df['Wickets-2']>5]['Result'].value_counts().plot.bar(color='black')"
   ]
  },
  {
   "cell_type": "markdown",
   "metadata": {},
   "source": [
    "The chasing side lost more than 5 wickets in 25 matches, out of which only one was won by the chasing team and 3 resulted in a tie. We can say that whenever the chasing side loses more than 5 wickets, it loses the match almost everytime!\n"
   ]
  },
  {
   "cell_type": "code",
   "execution_count": 253,
   "metadata": {},
   "outputs": [
    {
     "data": {
      "text/plain": [
       "<matplotlib.axes._subplots.AxesSubplot at 0x23325ca0be0>"
      ]
     },
     "execution_count": 253,
     "metadata": {},
     "output_type": "execute_result"
    },
    {
     "data": {
      "image/png": "[encoded data removed]",
      "text/plain": [
       "<Figure size 432x288 with 1 Axes>"
      ]
     },
     "metadata": {
      "needs_background": "light"
     },
     "output_type": "display_data"
    }
   ],
   "source": [
    "#Checking if the target set by defending team in the first inning affects the wickets lost in second inning.\n",
    "df.plot.scatter('Wickets-2', 'Runs-1')"
   ]
  },
  {
   "cell_type": "markdown",
   "metadata": {},
   "source": [
    "We can say that in most cases when the chasing team lost 5 or more wickets, the target was greater than 150."
   ]
  },
  {
   "cell_type": "code",
   "execution_count": 254,
   "metadata": {},
   "outputs": [
    {
     "data": {
      "text/plain": [
       "<matplotlib.axes._subplots.AxesSubplot at 0x23325d04668>"
      ]
     },
     "execution_count": 254,
     "metadata": {},
     "output_type": "execute_result"
    },
    {
     "data": {
      "image/png": "[encoded data removed]",
      "text/plain": [
       "<Figure size 432x288 with 1 Axes>"
      ]
     },
     "metadata": {
      "needs_background": "light"
     },
     "output_type": "display_data"
    }
   ],
   "source": [
    "#Correlation between first inning runs and wickets:\n",
    "df.plot.scatter('Wickets-1', 'Runs-1', color='red')"
   ]
  },
  {
   "cell_type": "markdown",
   "metadata": {},
   "source": [
    "Whenever the defending team lost just two wickets (thrice), they scored > 190, around 220 in two of them."
   ]
  },
  {
   "cell_type": "code",
   "execution_count": 255,
   "metadata": {},
   "outputs": [
    {
     "data": {
      "text/plain": [
       "<matplotlib.axes._subplots.AxesSubplot at 0x23325d72c18>"
      ]
     },
     "execution_count": 255,
     "metadata": {},
     "output_type": "execute_result"
    },
    {
     "data": {
      "image/png": "[encoded data removed]",
      "text/plain": [
       "<Figure size 432x288 with 1 Axes>"
      ]
     },
     "metadata": {
      "needs_background": "light"
     },
     "output_type": "display_data"
    }
   ],
   "source": [
    "df.plot.scatter('Wickets-2', 'Runs-2', color='black')"
   ]
  },
  {
   "cell_type": "markdown",
   "metadata": {},
   "source": [
    "This shows a trend that the more the wickets lost when chasing, the lesser the runs scored.\n",
    "This explains why the chasing side lost all matches when they lost 8 or more wickets which we saw earlier."
   ]
  },
  {
   "cell_type": "markdown",
   "metadata": {},
   "source": [
    "When the chasing team loses 8 or more wickets, they usually score less than 160"
   ]
  },
  {
   "cell_type": "code",
   "execution_count": 256,
   "metadata": {},
   "outputs": [
    {
     "name": "stdout",
     "output_type": "stream",
     "text": [
      "Result       Batting 1st  Chasing  Match-Tied\n",
      "Batting 1st                                  \n",
      "CSK                    1        3           0\n",
      "DC                     5        2           1\n",
      "KKR                    4        3           1\n",
      "KXIP                   2        2           0\n",
      "MI                     4        2           1\n",
      "RCB                    3        3           1\n",
      "RR                     1        3           0\n",
      "SRH                    4        2           0\n"
     ]
    },
    {
     "data": {
      "text/plain": [
       "Text(0, 0.5, 'Percentage')"
      ]
     },
     "execution_count": 256,
     "metadata": {},
     "output_type": "execute_result"
    },
    {
     "data": {
      "image/png": "[encoded data removed]",
      "text/plain": [
       "<Figure size 576x576 with 1 Axes>"
      ]
     },
     "metadata": {
      "needs_background": "light"
     },
     "output_type": "display_data"
    }
   ],
   "source": [
    "#Team-wise seggregation of Match Results when Batting first\n",
    "print(pd.crosstab(df['Batting 1st'],df['Result']))\n",
    "\n",
    "def_team=pd.crosstab(df['Batting 1st'],df['Result'])\n",
    "def_team.div(def_team.sum(1).astype(float), axis=0).plot(kind=\"bar\", stacked=True, figsize=(8,8))\n",
    "plt.xlabel('Defending Team')\n",
    "plt.ylabel('Percentage')"
   ]
  },
  {
   "cell_type": "markdown",
   "metadata": {},
   "source": [
    "The x-axis shows the team batting first. The blue part represents the portion of time the team batting first won.\n",
    "Orange represents the ratio of times the defending team lost while green represent tied matches.\n",
    "eg. CSK won 25% of matches when they batted first, while SRH won two-thirds of the matches batting first."
   ]
  },
  {
   "cell_type": "code",
   "execution_count": 257,
   "metadata": {},
   "outputs": [
    {
     "name": "stdout",
     "output_type": "stream",
     "text": [
      "Result   Batting 1st  Chasing  Match-Tied\n",
      "Chasing                                  \n",
      "CSK                5        3           0\n",
      "DC                 3        1           0\n",
      "KKR                3        1           0\n",
      "KXIP               3        3           2\n",
      "MI                 0        4           1\n",
      "RCB                2        3           0\n",
      "RR                 4        4           0\n",
      "SRH                4        1           1\n"
     ]
    },
    {
     "data": {
      "text/plain": [
       "Text(0, 0.5, 'Percentage')"
      ]
     },
     "execution_count": 257,
     "metadata": {},
     "output_type": "execute_result"
    },
    {
     "data": {
      "image/png": "[encoded data removed]",
      "text/plain": [
       "<Figure size 576x576 with 1 Axes>"
      ]
     },
     "metadata": {
      "needs_background": "light"
     },
     "output_type": "display_data"
    }
   ],
   "source": [
    "#Team-wise seggregation of Match Results when Chasing\n",
    "print(pd.crosstab(df['Chasing'],df['Result']))\n",
    "\n",
    "def_team=pd.crosstab(df['Chasing'],df['Result'])\n",
    "def_team.div(def_team.sum(1).astype(float), axis=0).plot(kind=\"bar\", stacked=True, figsize=(8,8))\n",
    "plt.xlabel('Chasing Team')\n",
    "plt.ylabel('Percentage')"
   ]
  },
  {
   "cell_type": "markdown",
   "metadata": {},
   "source": [
    "x-axis shows the chasing team. Orange represents when the chasing team won. Blue represents when they lost, while green means tie.\n",
    "Clearly, Mumbai Indians have the best record when chasing, they haven't lost a single match when chasing."
   ]
  },
  {
   "cell_type": "code",
   "execution_count": null,
   "metadata": {},
   "outputs": [],
   "source": []
  },
  {
   "cell_type": "code",
   "execution_count": null,
   "metadata": {},
   "outputs": [],
   "source": []
  },
  {
   "cell_type": "markdown",
   "metadata": {},
   "source": [
    "# Match-wise Analysis"
   ]
  },
  {
   "cell_type": "markdown",
   "metadata": {},
   "source": [
    "# Match 50- KXIP vs RR"
   ]
  },
  {
   "cell_type": "code",
   "execution_count": 317,
   "metadata": {},
   "outputs": [
    {
     "data": {
      "text/html": [
       "<div>\n",
       "<style scoped>\n",
       "    .dataframe tbody tr th:only-of-type {\n",
       "        vertical-align: middle;\n",
       "    }\n",
       "\n",
       "    .dataframe tbody tr th {\n",
       "        vertical-align: top;\n",
       "    }\n",
       "\n",
       "    .dataframe thead th {\n",
       "        text-align: right;\n",
       "    }\n",
       "</style>\n",
       "<table border=\"1\" class=\"dataframe\">\n",
       "  <thead>\n",
       "    <tr style=\"text-align: right;\">\n",
       "      <th></th>\n",
       "      <th>Match Number</th>\n",
       "      <th>Date</th>\n",
       "      <th>Match Time</th>\n",
       "      <th>Venue</th>\n",
       "      <th>Batting 1st</th>\n",
       "      <th>Chasing</th>\n",
       "      <th>Runs-1</th>\n",
       "      <th>Wickets-1</th>\n",
       "      <th>Runs-2</th>\n",
       "      <th>Wickets-2</th>\n",
       "      <th>Result</th>\n",
       "      <th>Winner</th>\n",
       "      <th>Loser</th>\n",
       "      <th>Super Over</th>\n",
       "      <th>Match Result</th>\n",
       "    </tr>\n",
       "  </thead>\n",
       "  <tbody>\n",
       "    <tr>\n",
       "      <th>36</th>\n",
       "      <td>37</td>\n",
       "      <td>2020-10-19</td>\n",
       "      <td>07:30:00</td>\n",
       "      <td>Abu Dhabi</td>\n",
       "      <td>CSK</td>\n",
       "      <td>RR</td>\n",
       "      <td>125</td>\n",
       "      <td>5</td>\n",
       "      <td>126</td>\n",
       "      <td>3</td>\n",
       "      <td>Chasing</td>\n",
       "      <td>RR</td>\n",
       "      <td>CSK</td>\n",
       "      <td>No</td>\n",
       "      <td>RR won by 7 wickets</td>\n",
       "    </tr>\n",
       "    <tr>\n",
       "      <th>38</th>\n",
       "      <td>39</td>\n",
       "      <td>2020-10-21</td>\n",
       "      <td>07:30:00</td>\n",
       "      <td>Abu Dhabi</td>\n",
       "      <td>KKR</td>\n",
       "      <td>RCB</td>\n",
       "      <td>84</td>\n",
       "      <td>8</td>\n",
       "      <td>85</td>\n",
       "      <td>2</td>\n",
       "      <td>Chasing</td>\n",
       "      <td>RCB</td>\n",
       "      <td>KKR</td>\n",
       "      <td>No</td>\n",
       "      <td>RCB won by 8 Wickets</td>\n",
       "    </tr>\n",
       "    <tr>\n",
       "      <th>41</th>\n",
       "      <td>42</td>\n",
       "      <td>2020-10-24</td>\n",
       "      <td>03:30:00</td>\n",
       "      <td>Abu Dhabi</td>\n",
       "      <td>KKR</td>\n",
       "      <td>DC</td>\n",
       "      <td>194</td>\n",
       "      <td>6</td>\n",
       "      <td>135</td>\n",
       "      <td>9</td>\n",
       "      <td>Batting 1st</td>\n",
       "      <td>KKR</td>\n",
       "      <td>DC</td>\n",
       "      <td>No</td>\n",
       "      <td>KKR won by 59 runs</td>\n",
       "    </tr>\n",
       "    <tr>\n",
       "      <th>44</th>\n",
       "      <td>45</td>\n",
       "      <td>2020-10-25</td>\n",
       "      <td>07:30:00</td>\n",
       "      <td>Abu Dhabi</td>\n",
       "      <td>MI</td>\n",
       "      <td>RR</td>\n",
       "      <td>195</td>\n",
       "      <td>5</td>\n",
       "      <td>196</td>\n",
       "      <td>2</td>\n",
       "      <td>Chasing</td>\n",
       "      <td>RR</td>\n",
       "      <td>MI</td>\n",
       "      <td>No</td>\n",
       "      <td>RR won by 8 wickets</td>\n",
       "    </tr>\n",
       "    <tr>\n",
       "      <th>47</th>\n",
       "      <td>48</td>\n",
       "      <td>2020-10-28</td>\n",
       "      <td>07:30:00</td>\n",
       "      <td>Abu Dhabi</td>\n",
       "      <td>RCB</td>\n",
       "      <td>MI</td>\n",
       "      <td>164</td>\n",
       "      <td>6</td>\n",
       "      <td>166</td>\n",
       "      <td>5</td>\n",
       "      <td>Chasing</td>\n",
       "      <td>MI</td>\n",
       "      <td>RCB</td>\n",
       "      <td>No</td>\n",
       "      <td>MI won by 5 wickets</td>\n",
       "    </tr>\n",
       "  </tbody>\n",
       "</table>\n",
       "</div>"
      ],
      "text/plain": [
       "    Match Number       Date Match Time      Venue Batting 1st Chasing  Runs-1  \\\n",
       "36            37 2020-10-19   07:30:00  Abu Dhabi         CSK      RR     125   \n",
       "38            39 2020-10-21   07:30:00  Abu Dhabi         KKR     RCB      84   \n",
       "41            42 2020-10-24   03:30:00  Abu Dhabi         KKR      DC     194   \n",
       "44            45 2020-10-25   07:30:00  Abu Dhabi          MI      RR     195   \n",
       "47            48 2020-10-28   07:30:00  Abu Dhabi         RCB      MI     164   \n",
       "\n",
       "    Wickets-1  Runs-2  Wickets-2       Result Winner Loser Super Over  \\\n",
       "36          5     126          3      Chasing     RR   CSK         No   \n",
       "38          8      85          2      Chasing    RCB   KKR         No   \n",
       "41          6     135          9  Batting 1st    KKR    DC         No   \n",
       "44          5     196          2      Chasing     RR    MI         No   \n",
       "47          6     166          5      Chasing     MI   RCB         No   \n",
       "\n",
       "            Match Result  \n",
       "36   RR won by 7 wickets  \n",
       "38  RCB won by 8 Wickets  \n",
       "41    KKR won by 59 runs  \n",
       "44   RR won by 8 wickets  \n",
       "47   MI won by 5 wickets  "
      ]
     },
     "execution_count": 317,
     "metadata": {},
     "output_type": "execute_result"
    }
   ],
   "source": [
    "abuDhabi= df[df['Venue']=='Abu Dhabi']\n",
    "abuDhabi.tail()"
   ]
  },
  {
   "cell_type": "code",
   "execution_count": 285,
   "metadata": {},
   "outputs": [
    {
     "data": {
      "text/plain": [
       "Chasing        9\n",
       "Batting 1st    7\n",
       "Match-Tied     1\n",
       "Name: Result, dtype: int64"
      ]
     },
     "execution_count": 285,
     "metadata": {},
     "output_type": "execute_result"
    }
   ],
   "source": [
    "abuDhabi['Result'].value_counts()"
   ]
  },
  {
   "cell_type": "code",
   "execution_count": 286,
   "metadata": {},
   "outputs": [
    {
     "name": "stdout",
     "output_type": "stream",
     "text": [
      "KKR    6\n",
      "MI     5\n",
      "SRH    2\n",
      "RR     1\n",
      "RCB    1\n",
      "DC     1\n",
      "CSK    1\n",
      "Name: Batting 1st, dtype: int64\n",
      "RR      3\n",
      "MI      3\n",
      "KKR     2\n",
      "KXIP    2\n",
      "RCB     2\n",
      "DC      2\n",
      "CSK     2\n",
      "SRH     1\n",
      "Name: Chasing, dtype: int64\n"
     ]
    }
   ],
   "source": [
    "print(abuDhabi['Batting 1st'].value_counts())\n",
    "print(abuDhabi['Chasing'].value_counts())"
   ]
  },
  {
   "cell_type": "markdown",
   "metadata": {},
   "source": [
    "Kings XI Punjab haven't batted first in Abu Dhabi yet but chased twice.\n",
    "Rajasthan Royals have played four matches in Abu Dhabi, in which they defended once and chased thrice."
   ]
  },
  {
   "cell_type": "code",
   "execution_count": 328,
   "metadata": {},
   "outputs": [
    {
     "data": {
      "text/plain": [
       "<matplotlib.axes._subplots.AxesSubplot at 0x233288d35c0>"
      ]
     },
     "execution_count": 328,
     "metadata": {},
     "output_type": "execute_result"
    },
    {
     "data": {
      "image/png": "[encoded data removed]",
      "text/plain": [
       "<Figure size 432x288 with 1 Axes>"
      ]
     },
     "metadata": {
      "needs_background": "light"
     },
     "output_type": "display_data"
    }
   ],
   "source": [
    "#Checking the pitch trends in last 8 matches\n",
    "abuDhabi8 = abuDhabi.tail(8)\n",
    "abuDhabi8['Result'].value_counts().plot.bar(color= 'maroon')"
   ]
  },
  {
   "cell_type": "markdown",
   "metadata": {},
   "source": [
    "In the last 8 matches played in Abu Dhabi, the pitch has favoured the chasing side, who won 6 matches while one match resulted in a tie. "
   ]
  },
  {
   "cell_type": "markdown",
   "metadata": {},
   "source": [
    "Insight: Choose more players from the chasing team. (The players of the winning team usually provide more points.)"
   ]
  },
  {
   "cell_type": "code",
   "execution_count": 331,
   "metadata": {},
   "outputs": [
    {
     "data": {
      "text/plain": [
       "count      8.000000\n",
       "mean     154.375000\n",
       "std       36.453248\n",
       "min       84.000000\n",
       "25%      142.250000\n",
       "50%      162.500000\n",
       "75%      171.500000\n",
       "max      195.000000\n",
       "Name: Runs-1, dtype: float64"
      ]
     },
     "execution_count": 331,
     "metadata": {},
     "output_type": "execute_result"
    }
   ],
   "source": [
    "abuDhabi8['Runs-1'].describe()"
   ]
  },
  {
   "cell_type": "markdown",
   "metadata": {},
   "source": [
    "Expected first inning score: 140-170"
   ]
  },
  {
   "cell_type": "code",
   "execution_count": 307,
   "metadata": {},
   "outputs": [
    {
     "data": {
      "text/html": [
       "<div>\n",
       "<style scoped>\n",
       "    .dataframe tbody tr th:only-of-type {\n",
       "        vertical-align: middle;\n",
       "    }\n",
       "\n",
       "    .dataframe tbody tr th {\n",
       "        vertical-align: top;\n",
       "    }\n",
       "\n",
       "    .dataframe thead th {\n",
       "        text-align: right;\n",
       "    }\n",
       "</style>\n",
       "<table border=\"1\" class=\"dataframe\">\n",
       "  <thead>\n",
       "    <tr style=\"text-align: right;\">\n",
       "      <th></th>\n",
       "      <th>Match Number</th>\n",
       "      <th>Date</th>\n",
       "      <th>Match Time</th>\n",
       "      <th>Venue</th>\n",
       "      <th>Batting 1st</th>\n",
       "      <th>Chasing</th>\n",
       "      <th>Runs-1</th>\n",
       "      <th>Wickets-1</th>\n",
       "      <th>Runs-2</th>\n",
       "      <th>Wickets-2</th>\n",
       "      <th>Result</th>\n",
       "      <th>Winner</th>\n",
       "      <th>Loser</th>\n",
       "      <th>Super Over</th>\n",
       "      <th>Match Result</th>\n",
       "    </tr>\n",
       "  </thead>\n",
       "  <tbody>\n",
       "    <tr>\n",
       "      <th>5</th>\n",
       "      <td>6</td>\n",
       "      <td>2020-09-24</td>\n",
       "      <td>07:30:00</td>\n",
       "      <td>Dubai</td>\n",
       "      <td>KXIP</td>\n",
       "      <td>RCB</td>\n",
       "      <td>206</td>\n",
       "      <td>3</td>\n",
       "      <td>109</td>\n",
       "      <td>10</td>\n",
       "      <td>Batting 1st</td>\n",
       "      <td>KXIP</td>\n",
       "      <td>RCB</td>\n",
       "      <td>No</td>\n",
       "      <td>KXIP won 97 runs</td>\n",
       "    </tr>\n",
       "    <tr>\n",
       "      <th>8</th>\n",
       "      <td>9</td>\n",
       "      <td>2020-09-27</td>\n",
       "      <td>07:30:00</td>\n",
       "      <td>Sharjah</td>\n",
       "      <td>KXIP</td>\n",
       "      <td>RR</td>\n",
       "      <td>223</td>\n",
       "      <td>2</td>\n",
       "      <td>226</td>\n",
       "      <td>6</td>\n",
       "      <td>Chasing</td>\n",
       "      <td>RR</td>\n",
       "      <td>KXIP</td>\n",
       "      <td>No</td>\n",
       "      <td>RR won by 4 wickets</td>\n",
       "    </tr>\n",
       "    <tr>\n",
       "      <th>17</th>\n",
       "      <td>18</td>\n",
       "      <td>2020-10-04</td>\n",
       "      <td>07:30:00</td>\n",
       "      <td>Dubai</td>\n",
       "      <td>KXIP</td>\n",
       "      <td>CSK</td>\n",
       "      <td>178</td>\n",
       "      <td>4</td>\n",
       "      <td>181</td>\n",
       "      <td>0</td>\n",
       "      <td>Chasing</td>\n",
       "      <td>CSK</td>\n",
       "      <td>KXIP</td>\n",
       "      <td>No</td>\n",
       "      <td>CSK won by 10 wickets</td>\n",
       "    </tr>\n",
       "    <tr>\n",
       "      <th>42</th>\n",
       "      <td>43</td>\n",
       "      <td>2020-10-24</td>\n",
       "      <td>07:30:00</td>\n",
       "      <td>Dubai</td>\n",
       "      <td>KXIP</td>\n",
       "      <td>SRH</td>\n",
       "      <td>126</td>\n",
       "      <td>7</td>\n",
       "      <td>114</td>\n",
       "      <td>10</td>\n",
       "      <td>Batting 1st</td>\n",
       "      <td>KXIP</td>\n",
       "      <td>SRH</td>\n",
       "      <td>No</td>\n",
       "      <td>KXIP won by 12 runs</td>\n",
       "    </tr>\n",
       "  </tbody>\n",
       "</table>\n",
       "</div>"
      ],
      "text/plain": [
       "    Match Number       Date Match Time    Venue Batting 1st Chasing  Runs-1  \\\n",
       "5              6 2020-09-24   07:30:00    Dubai        KXIP     RCB     206   \n",
       "8              9 2020-09-27   07:30:00  Sharjah        KXIP      RR     223   \n",
       "17            18 2020-10-04   07:30:00    Dubai        KXIP     CSK     178   \n",
       "42            43 2020-10-24   07:30:00    Dubai        KXIP     SRH     126   \n",
       "\n",
       "    Wickets-1  Runs-2  Wickets-2       Result Winner Loser Super Over  \\\n",
       "5           3     109         10  Batting 1st   KXIP   RCB         No   \n",
       "8           2     226          6      Chasing     RR  KXIP         No   \n",
       "17          4     181          0      Chasing    CSK  KXIP         No   \n",
       "42          7     114         10  Batting 1st   KXIP   SRH         No   \n",
       "\n",
       "             Match Result  \n",
       "5        KXIP won 97 runs  \n",
       "8     RR won by 4 wickets  \n",
       "17  CSK won by 10 wickets  \n",
       "42    KXIP won by 12 runs  "
      ]
     },
     "execution_count": 307,
     "metadata": {},
     "output_type": "execute_result"
    }
   ],
   "source": [
    "#KXIP when batting first\n",
    "kxip1 = df[df['Batting 1st']=='KXIP']\n",
    "kxip1"
   ]
  },
  {
   "cell_type": "code",
   "execution_count": 300,
   "metadata": {},
   "outputs": [
    {
     "data": {
      "text/html": [
       "<div>\n",
       "<style scoped>\n",
       "    .dataframe tbody tr th:only-of-type {\n",
       "        vertical-align: middle;\n",
       "    }\n",
       "\n",
       "    .dataframe tbody tr th {\n",
       "        vertical-align: top;\n",
       "    }\n",
       "\n",
       "    .dataframe thead th {\n",
       "        text-align: right;\n",
       "    }\n",
       "</style>\n",
       "<table border=\"1\" class=\"dataframe\">\n",
       "  <thead>\n",
       "    <tr style=\"text-align: right;\">\n",
       "      <th></th>\n",
       "      <th>Match Number</th>\n",
       "      <th>Runs-1</th>\n",
       "      <th>Wickets-1</th>\n",
       "      <th>Runs-2</th>\n",
       "      <th>Wickets-2</th>\n",
       "    </tr>\n",
       "  </thead>\n",
       "  <tbody>\n",
       "    <tr>\n",
       "      <th>count</th>\n",
       "      <td>4.000000</td>\n",
       "      <td>4.000000</td>\n",
       "      <td>4.000000</td>\n",
       "      <td>4.000000</td>\n",
       "      <td>4.000000</td>\n",
       "    </tr>\n",
       "    <tr>\n",
       "      <th>mean</th>\n",
       "      <td>19.000000</td>\n",
       "      <td>183.250000</td>\n",
       "      <td>4.000000</td>\n",
       "      <td>157.500000</td>\n",
       "      <td>6.500000</td>\n",
       "    </tr>\n",
       "    <tr>\n",
       "      <th>std</th>\n",
       "      <td>16.792856</td>\n",
       "      <td>42.437209</td>\n",
       "      <td>2.160247</td>\n",
       "      <td>56.240555</td>\n",
       "      <td>4.725816</td>\n",
       "    </tr>\n",
       "    <tr>\n",
       "      <th>min</th>\n",
       "      <td>6.000000</td>\n",
       "      <td>126.000000</td>\n",
       "      <td>2.000000</td>\n",
       "      <td>109.000000</td>\n",
       "      <td>0.000000</td>\n",
       "    </tr>\n",
       "    <tr>\n",
       "      <th>25%</th>\n",
       "      <td>8.250000</td>\n",
       "      <td>165.000000</td>\n",
       "      <td>2.750000</td>\n",
       "      <td>112.750000</td>\n",
       "      <td>4.500000</td>\n",
       "    </tr>\n",
       "    <tr>\n",
       "      <th>50%</th>\n",
       "      <td>13.500000</td>\n",
       "      <td>192.000000</td>\n",
       "      <td>3.500000</td>\n",
       "      <td>147.500000</td>\n",
       "      <td>8.000000</td>\n",
       "    </tr>\n",
       "    <tr>\n",
       "      <th>75%</th>\n",
       "      <td>24.250000</td>\n",
       "      <td>210.250000</td>\n",
       "      <td>4.750000</td>\n",
       "      <td>192.250000</td>\n",
       "      <td>10.000000</td>\n",
       "    </tr>\n",
       "    <tr>\n",
       "      <th>max</th>\n",
       "      <td>43.000000</td>\n",
       "      <td>223.000000</td>\n",
       "      <td>7.000000</td>\n",
       "      <td>226.000000</td>\n",
       "      <td>10.000000</td>\n",
       "    </tr>\n",
       "  </tbody>\n",
       "</table>\n",
       "</div>"
      ],
      "text/plain": [
       "       Match Number      Runs-1  Wickets-1      Runs-2  Wickets-2\n",
       "count      4.000000    4.000000   4.000000    4.000000   4.000000\n",
       "mean      19.000000  183.250000   4.000000  157.500000   6.500000\n",
       "std       16.792856   42.437209   2.160247   56.240555   4.725816\n",
       "min        6.000000  126.000000   2.000000  109.000000   0.000000\n",
       "25%        8.250000  165.000000   2.750000  112.750000   4.500000\n",
       "50%       13.500000  192.000000   3.500000  147.500000   8.000000\n",
       "75%       24.250000  210.250000   4.750000  192.250000  10.000000\n",
       "max       43.000000  223.000000   7.000000  226.000000  10.000000"
      ]
     },
     "execution_count": 300,
     "metadata": {},
     "output_type": "execute_result"
    }
   ],
   "source": [
    "kxip1.describe()"
   ]
  },
  {
   "cell_type": "code",
   "execution_count": 326,
   "metadata": {},
   "outputs": [
    {
     "data": {
      "text/plain": [
       "<matplotlib.axes._subplots.AxesSubplot at 0x23328829080>"
      ]
     },
     "execution_count": 326,
     "metadata": {},
     "output_type": "execute_result"
    },
    {
     "data": {
      "image/png": "[encoded data removed]",
      "text/plain": [
       "<Figure size 432x288 with 1 Axes>"
      ]
     },
     "metadata": {
      "needs_background": "light"
     },
     "output_type": "display_data"
    }
   ],
   "source": [
    "kxip1['Result'].value_counts().plot.bar(color='yellow')"
   ]
  },
  {
   "cell_type": "markdown",
   "metadata": {},
   "source": [
    "When KXIP batted first, they won two matches out of four.\n",
    "In 3 out of 4 matches batting first, KXIP scored more than 175, twice more than 200."
   ]
  },
  {
   "cell_type": "markdown",
   "metadata": {},
   "source": [
    "When batting first, KXIP loses 4 wickets on an average, while it takes 6.5 wickets of the chasing team."
   ]
  },
  {
   "cell_type": "markdown",
   "metadata": {},
   "source": [
    "Insight: If KXIP bats first, don't choose many bowlers from RR"
   ]
  },
  {
   "cell_type": "code",
   "execution_count": 303,
   "metadata": {},
   "outputs": [
    {
     "data": {
      "text/html": [
       "<div>\n",
       "<style scoped>\n",
       "    .dataframe tbody tr th:only-of-type {\n",
       "        vertical-align: middle;\n",
       "    }\n",
       "\n",
       "    .dataframe tbody tr th {\n",
       "        vertical-align: top;\n",
       "    }\n",
       "\n",
       "    .dataframe thead th {\n",
       "        text-align: right;\n",
       "    }\n",
       "</style>\n",
       "<table border=\"1\" class=\"dataframe\">\n",
       "  <thead>\n",
       "    <tr style=\"text-align: right;\">\n",
       "      <th></th>\n",
       "      <th>Match Number</th>\n",
       "      <th>Date</th>\n",
       "      <th>Match Time</th>\n",
       "      <th>Venue</th>\n",
       "      <th>Batting 1st</th>\n",
       "      <th>Chasing</th>\n",
       "      <th>Runs-1</th>\n",
       "      <th>Wickets-1</th>\n",
       "      <th>Runs-2</th>\n",
       "      <th>Wickets-2</th>\n",
       "      <th>Result</th>\n",
       "      <th>Winner</th>\n",
       "      <th>Loser</th>\n",
       "      <th>Super Over</th>\n",
       "      <th>Match Result</th>\n",
       "    </tr>\n",
       "  </thead>\n",
       "  <tbody>\n",
       "    <tr>\n",
       "      <th>1</th>\n",
       "      <td>2</td>\n",
       "      <td>2020-09-20</td>\n",
       "      <td>07:30:00</td>\n",
       "      <td>Dubai</td>\n",
       "      <td>DC</td>\n",
       "      <td>KXIP</td>\n",
       "      <td>157</td>\n",
       "      <td>8</td>\n",
       "      <td>157</td>\n",
       "      <td>8</td>\n",
       "      <td>Match-Tied</td>\n",
       "      <td>DC</td>\n",
       "      <td>KXIP</td>\n",
       "      <td>Yes</td>\n",
       "      <td>DC won super over</td>\n",
       "    </tr>\n",
       "    <tr>\n",
       "      <th>12</th>\n",
       "      <td>13</td>\n",
       "      <td>2020-10-01</td>\n",
       "      <td>07:30:00</td>\n",
       "      <td>Abu Dhabi</td>\n",
       "      <td>MI</td>\n",
       "      <td>KXIP</td>\n",
       "      <td>191</td>\n",
       "      <td>4</td>\n",
       "      <td>143</td>\n",
       "      <td>8</td>\n",
       "      <td>Batting 1st</td>\n",
       "      <td>MI</td>\n",
       "      <td>KXIP</td>\n",
       "      <td>No</td>\n",
       "      <td>MI won by 48 runs</td>\n",
       "    </tr>\n",
       "    <tr>\n",
       "      <th>21</th>\n",
       "      <td>22</td>\n",
       "      <td>2020-10-08</td>\n",
       "      <td>07:30:00</td>\n",
       "      <td>Dubai</td>\n",
       "      <td>SRH</td>\n",
       "      <td>KXIP</td>\n",
       "      <td>201</td>\n",
       "      <td>6</td>\n",
       "      <td>132</td>\n",
       "      <td>10</td>\n",
       "      <td>Batting 1st</td>\n",
       "      <td>SRH</td>\n",
       "      <td>KXIP</td>\n",
       "      <td>No</td>\n",
       "      <td>SRH won by 69 runs</td>\n",
       "    </tr>\n",
       "    <tr>\n",
       "      <th>23</th>\n",
       "      <td>24</td>\n",
       "      <td>2020-10-10</td>\n",
       "      <td>03:30:00</td>\n",
       "      <td>Abu Dhabi</td>\n",
       "      <td>KKR</td>\n",
       "      <td>KXIP</td>\n",
       "      <td>164</td>\n",
       "      <td>6</td>\n",
       "      <td>162</td>\n",
       "      <td>5</td>\n",
       "      <td>Batting 1st</td>\n",
       "      <td>KKR</td>\n",
       "      <td>KXIP</td>\n",
       "      <td>No</td>\n",
       "      <td>KKR won by 2 runs</td>\n",
       "    </tr>\n",
       "    <tr>\n",
       "      <th>30</th>\n",
       "      <td>31</td>\n",
       "      <td>2020-10-15</td>\n",
       "      <td>07:30:00</td>\n",
       "      <td>Sharjah</td>\n",
       "      <td>RCB</td>\n",
       "      <td>KXIP</td>\n",
       "      <td>171</td>\n",
       "      <td>6</td>\n",
       "      <td>177</td>\n",
       "      <td>2</td>\n",
       "      <td>Chasing</td>\n",
       "      <td>KXIP</td>\n",
       "      <td>RCB</td>\n",
       "      <td>No</td>\n",
       "      <td>KXIP won by 8 wickets</td>\n",
       "    </tr>\n",
       "    <tr>\n",
       "      <th>35</th>\n",
       "      <td>36</td>\n",
       "      <td>2020-10-18</td>\n",
       "      <td>07:30:00</td>\n",
       "      <td>Dubai</td>\n",
       "      <td>MI</td>\n",
       "      <td>KXIP</td>\n",
       "      <td>176</td>\n",
       "      <td>6</td>\n",
       "      <td>176</td>\n",
       "      <td>6</td>\n",
       "      <td>Match-Tied</td>\n",
       "      <td>KXIP</td>\n",
       "      <td>MI</td>\n",
       "      <td>Yes</td>\n",
       "      <td>KXIP won the 2nd Super Over</td>\n",
       "    </tr>\n",
       "    <tr>\n",
       "      <th>37</th>\n",
       "      <td>38</td>\n",
       "      <td>2020-10-20</td>\n",
       "      <td>07:30:00</td>\n",
       "      <td>Dubai</td>\n",
       "      <td>DC</td>\n",
       "      <td>KXIP</td>\n",
       "      <td>164</td>\n",
       "      <td>5</td>\n",
       "      <td>167</td>\n",
       "      <td>5</td>\n",
       "      <td>Chasing</td>\n",
       "      <td>KXIP</td>\n",
       "      <td>DC</td>\n",
       "      <td>No</td>\n",
       "      <td>KXIP won by 5 wickets</td>\n",
       "    </tr>\n",
       "    <tr>\n",
       "      <th>45</th>\n",
       "      <td>46</td>\n",
       "      <td>2020-10-26</td>\n",
       "      <td>07:30:00</td>\n",
       "      <td>Sharjah</td>\n",
       "      <td>KKR</td>\n",
       "      <td>KXIP</td>\n",
       "      <td>149</td>\n",
       "      <td>9</td>\n",
       "      <td>150</td>\n",
       "      <td>2</td>\n",
       "      <td>Chasing</td>\n",
       "      <td>KXIP</td>\n",
       "      <td>KKR</td>\n",
       "      <td>No</td>\n",
       "      <td>KXIP won by 8 wickets</td>\n",
       "    </tr>\n",
       "  </tbody>\n",
       "</table>\n",
       "</div>"
      ],
      "text/plain": [
       "    Match Number       Date Match Time      Venue Batting 1st Chasing  Runs-1  \\\n",
       "1              2 2020-09-20   07:30:00      Dubai          DC    KXIP     157   \n",
       "12            13 2020-10-01   07:30:00  Abu Dhabi          MI    KXIP     191   \n",
       "21            22 2020-10-08   07:30:00      Dubai         SRH    KXIP     201   \n",
       "23            24 2020-10-10   03:30:00  Abu Dhabi         KKR    KXIP     164   \n",
       "30            31 2020-10-15   07:30:00    Sharjah         RCB    KXIP     171   \n",
       "35            36 2020-10-18   07:30:00      Dubai          MI    KXIP     176   \n",
       "37            38 2020-10-20   07:30:00      Dubai          DC    KXIP     164   \n",
       "45            46 2020-10-26   07:30:00    Sharjah         KKR    KXIP     149   \n",
       "\n",
       "    Wickets-1  Runs-2  Wickets-2       Result Winner Loser Super Over  \\\n",
       "1           8     157          8   Match-Tied     DC  KXIP        Yes   \n",
       "12          4     143          8  Batting 1st     MI  KXIP         No   \n",
       "21          6     132         10  Batting 1st    SRH  KXIP         No   \n",
       "23          6     162          5  Batting 1st    KKR  KXIP         No   \n",
       "30          6     177          2      Chasing   KXIP   RCB         No   \n",
       "35          6     176          6   Match-Tied   KXIP    MI        Yes   \n",
       "37          5     167          5      Chasing   KXIP    DC         No   \n",
       "45          9     150          2      Chasing   KXIP   KKR         No   \n",
       "\n",
       "                   Match Result  \n",
       "1             DC won super over  \n",
       "12            MI won by 48 runs  \n",
       "21           SRH won by 69 runs  \n",
       "23            KKR won by 2 runs  \n",
       "30        KXIP won by 8 wickets  \n",
       "35  KXIP won the 2nd Super Over  \n",
       "37        KXIP won by 5 wickets  \n",
       "45        KXIP won by 8 wickets  "
      ]
     },
     "execution_count": 303,
     "metadata": {},
     "output_type": "execute_result"
    }
   ],
   "source": [
    "#KXIP when chasing\n",
    "kxip2 = df[df['Chasing']=='KXIP']\n",
    "kxip2"
   ]
  },
  {
   "cell_type": "code",
   "execution_count": 304,
   "metadata": {},
   "outputs": [
    {
     "data": {
      "text/html": [
       "<div>\n",
       "<style scoped>\n",
       "    .dataframe tbody tr th:only-of-type {\n",
       "        vertical-align: middle;\n",
       "    }\n",
       "\n",
       "    .dataframe tbody tr th {\n",
       "        vertical-align: top;\n",
       "    }\n",
       "\n",
       "    .dataframe thead th {\n",
       "        text-align: right;\n",
       "    }\n",
       "</style>\n",
       "<table border=\"1\" class=\"dataframe\">\n",
       "  <thead>\n",
       "    <tr style=\"text-align: right;\">\n",
       "      <th></th>\n",
       "      <th>Match Number</th>\n",
       "      <th>Runs-1</th>\n",
       "      <th>Wickets-1</th>\n",
       "      <th>Runs-2</th>\n",
       "      <th>Wickets-2</th>\n",
       "    </tr>\n",
       "  </thead>\n",
       "  <tbody>\n",
       "    <tr>\n",
       "      <th>count</th>\n",
       "      <td>8.000000</td>\n",
       "      <td>8.000000</td>\n",
       "      <td>8.000000</td>\n",
       "      <td>8.000000</td>\n",
       "      <td>8.000000</td>\n",
       "    </tr>\n",
       "    <tr>\n",
       "      <th>mean</th>\n",
       "      <td>26.500000</td>\n",
       "      <td>171.625000</td>\n",
       "      <td>6.250000</td>\n",
       "      <td>158.000000</td>\n",
       "      <td>5.750000</td>\n",
       "    </tr>\n",
       "    <tr>\n",
       "      <th>std</th>\n",
       "      <td>14.302847</td>\n",
       "      <td>17.319993</td>\n",
       "      <td>1.581139</td>\n",
       "      <td>15.802351</td>\n",
       "      <td>2.866058</td>\n",
       "    </tr>\n",
       "    <tr>\n",
       "      <th>min</th>\n",
       "      <td>2.000000</td>\n",
       "      <td>149.000000</td>\n",
       "      <td>4.000000</td>\n",
       "      <td>132.000000</td>\n",
       "      <td>2.000000</td>\n",
       "    </tr>\n",
       "    <tr>\n",
       "      <th>25%</th>\n",
       "      <td>19.750000</td>\n",
       "      <td>162.250000</td>\n",
       "      <td>5.750000</td>\n",
       "      <td>148.250000</td>\n",
       "      <td>4.250000</td>\n",
       "    </tr>\n",
       "    <tr>\n",
       "      <th>50%</th>\n",
       "      <td>27.500000</td>\n",
       "      <td>167.500000</td>\n",
       "      <td>6.000000</td>\n",
       "      <td>159.500000</td>\n",
       "      <td>5.500000</td>\n",
       "    </tr>\n",
       "    <tr>\n",
       "      <th>75%</th>\n",
       "      <td>36.500000</td>\n",
       "      <td>179.750000</td>\n",
       "      <td>6.500000</td>\n",
       "      <td>169.250000</td>\n",
       "      <td>8.000000</td>\n",
       "    </tr>\n",
       "    <tr>\n",
       "      <th>max</th>\n",
       "      <td>46.000000</td>\n",
       "      <td>201.000000</td>\n",
       "      <td>9.000000</td>\n",
       "      <td>177.000000</td>\n",
       "      <td>10.000000</td>\n",
       "    </tr>\n",
       "  </tbody>\n",
       "</table>\n",
       "</div>"
      ],
      "text/plain": [
       "       Match Number      Runs-1  Wickets-1      Runs-2  Wickets-2\n",
       "count      8.000000    8.000000   8.000000    8.000000   8.000000\n",
       "mean      26.500000  171.625000   6.250000  158.000000   5.750000\n",
       "std       14.302847   17.319993   1.581139   15.802351   2.866058\n",
       "min        2.000000  149.000000   4.000000  132.000000   2.000000\n",
       "25%       19.750000  162.250000   5.750000  148.250000   4.250000\n",
       "50%       27.500000  167.500000   6.000000  159.500000   5.500000\n",
       "75%       36.500000  179.750000   6.500000  169.250000   8.000000\n",
       "max       46.000000  201.000000   9.000000  177.000000  10.000000"
      ]
     },
     "execution_count": 304,
     "metadata": {},
     "output_type": "execute_result"
    }
   ],
   "source": [
    "kxip2.describe()"
   ]
  },
  {
   "cell_type": "code",
   "execution_count": 325,
   "metadata": {},
   "outputs": [
    {
     "data": {
      "text/plain": [
       "<matplotlib.axes._subplots.AxesSubplot at 0x233287c8828>"
      ]
     },
     "execution_count": 325,
     "metadata": {},
     "output_type": "execute_result"
    },
    {
     "data": {
      "image/png": "[encoded data removed]",
      "text/plain": [
       "<Figure size 432x288 with 1 Axes>"
      ]
     },
     "metadata": {
      "needs_background": "light"
     },
     "output_type": "display_data"
    }
   ],
   "source": [
    "kxip2['Result'].value_counts().plot.bar(color='pink')"
   ]
  },
  {
   "cell_type": "markdown",
   "metadata": {},
   "source": [
    "When KXIP is chasing, they concede 171 runs on an average. KXIP have won last 4 matches in which they chased. \n"
   ]
  },
  {
   "cell_type": "markdown",
   "metadata": {},
   "source": [
    "Toss Prediction- They will most definitely opt to bowl first if they win the toss since the pitch is also favouring the chasing team recently."
   ]
  },
  {
   "cell_type": "markdown",
   "metadata": {},
   "source": [
    "While KXIP loses ~6 wickets on average when chasing, the last 4 matches when they chased have seen them lose less than 4 wickets on an average."
   ]
  },
  {
   "cell_type": "markdown",
   "metadata": {},
   "source": [
    "Insight- Since KXIP tends to choose less wickets on an average when defending as well as chasing, choose less bowlers from Rajasthan Royals"
   ]
  },
  {
   "cell_type": "code",
   "execution_count": 306,
   "metadata": {},
   "outputs": [
    {
     "data": {
      "text/html": [
       "<div>\n",
       "<style scoped>\n",
       "    .dataframe tbody tr th:only-of-type {\n",
       "        vertical-align: middle;\n",
       "    }\n",
       "\n",
       "    .dataframe tbody tr th {\n",
       "        vertical-align: top;\n",
       "    }\n",
       "\n",
       "    .dataframe thead th {\n",
       "        text-align: right;\n",
       "    }\n",
       "</style>\n",
       "<table border=\"1\" class=\"dataframe\">\n",
       "  <thead>\n",
       "    <tr style=\"text-align: right;\">\n",
       "      <th></th>\n",
       "      <th>Match Number</th>\n",
       "      <th>Date</th>\n",
       "      <th>Match Time</th>\n",
       "      <th>Venue</th>\n",
       "      <th>Batting 1st</th>\n",
       "      <th>Chasing</th>\n",
       "      <th>Runs-1</th>\n",
       "      <th>Wickets-1</th>\n",
       "      <th>Runs-2</th>\n",
       "      <th>Wickets-2</th>\n",
       "      <th>Result</th>\n",
       "      <th>Winner</th>\n",
       "      <th>Loser</th>\n",
       "      <th>Super Over</th>\n",
       "      <th>Match Result</th>\n",
       "    </tr>\n",
       "  </thead>\n",
       "  <tbody>\n",
       "    <tr>\n",
       "      <th>3</th>\n",
       "      <td>4</td>\n",
       "      <td>2020-09-22</td>\n",
       "      <td>07:30:00</td>\n",
       "      <td>Sharjah</td>\n",
       "      <td>RR</td>\n",
       "      <td>CSK</td>\n",
       "      <td>216</td>\n",
       "      <td>7</td>\n",
       "      <td>200</td>\n",
       "      <td>6</td>\n",
       "      <td>Batting 1st</td>\n",
       "      <td>RR</td>\n",
       "      <td>CSK</td>\n",
       "      <td>No</td>\n",
       "      <td>RR won by 16 runs</td>\n",
       "    </tr>\n",
       "    <tr>\n",
       "      <th>14</th>\n",
       "      <td>15</td>\n",
       "      <td>2020-10-03</td>\n",
       "      <td>03:30:00</td>\n",
       "      <td>Abu Dhabi</td>\n",
       "      <td>RR</td>\n",
       "      <td>RCB</td>\n",
       "      <td>154</td>\n",
       "      <td>6</td>\n",
       "      <td>158</td>\n",
       "      <td>2</td>\n",
       "      <td>Chasing</td>\n",
       "      <td>RCB</td>\n",
       "      <td>RR</td>\n",
       "      <td>No</td>\n",
       "      <td>RCB won by 8 Wickets</td>\n",
       "    </tr>\n",
       "    <tr>\n",
       "      <th>32</th>\n",
       "      <td>33</td>\n",
       "      <td>2020-10-17</td>\n",
       "      <td>03:30:00</td>\n",
       "      <td>Dubai</td>\n",
       "      <td>RR</td>\n",
       "      <td>RCB</td>\n",
       "      <td>177</td>\n",
       "      <td>6</td>\n",
       "      <td>179</td>\n",
       "      <td>3</td>\n",
       "      <td>Chasing</td>\n",
       "      <td>RCB</td>\n",
       "      <td>RR</td>\n",
       "      <td>No</td>\n",
       "      <td>RCB won by 7 wickets</td>\n",
       "    </tr>\n",
       "    <tr>\n",
       "      <th>39</th>\n",
       "      <td>40</td>\n",
       "      <td>2020-10-22</td>\n",
       "      <td>07:30:00</td>\n",
       "      <td>Dubai</td>\n",
       "      <td>RR</td>\n",
       "      <td>SRH</td>\n",
       "      <td>154</td>\n",
       "      <td>6</td>\n",
       "      <td>156</td>\n",
       "      <td>2</td>\n",
       "      <td>Chasing</td>\n",
       "      <td>SRH</td>\n",
       "      <td>RR</td>\n",
       "      <td>No</td>\n",
       "      <td>SRH won by 8 wickets</td>\n",
       "    </tr>\n",
       "  </tbody>\n",
       "</table>\n",
       "</div>"
      ],
      "text/plain": [
       "    Match Number       Date Match Time      Venue Batting 1st Chasing  Runs-1  \\\n",
       "3              4 2020-09-22   07:30:00    Sharjah          RR     CSK     216   \n",
       "14            15 2020-10-03   03:30:00  Abu Dhabi          RR     RCB     154   \n",
       "32            33 2020-10-17   03:30:00      Dubai          RR     RCB     177   \n",
       "39            40 2020-10-22   07:30:00      Dubai          RR     SRH     154   \n",
       "\n",
       "    Wickets-1  Runs-2  Wickets-2       Result Winner Loser Super Over  \\\n",
       "3           7     200          6  Batting 1st     RR   CSK         No   \n",
       "14          6     158          2      Chasing    RCB    RR         No   \n",
       "32          6     179          3      Chasing    RCB    RR         No   \n",
       "39          6     156          2      Chasing    SRH    RR         No   \n",
       "\n",
       "            Match Result  \n",
       "3      RR won by 16 runs  \n",
       "14  RCB won by 8 Wickets  \n",
       "32  RCB won by 7 wickets  \n",
       "39  SRH won by 8 wickets  "
      ]
     },
     "execution_count": 306,
     "metadata": {},
     "output_type": "execute_result"
    }
   ],
   "source": [
    "#RR when defending\n",
    "rr1 = df[df['Batting 1st'] == 'RR']\n",
    "rr1"
   ]
  },
  {
   "cell_type": "code",
   "execution_count": 324,
   "metadata": {},
   "outputs": [
    {
     "data": {
      "text/plain": [
       "<matplotlib.axes._subplots.AxesSubplot at 0x23328773c18>"
      ]
     },
     "execution_count": 324,
     "metadata": {},
     "output_type": "execute_result"
    },
    {
     "data": {
      "image/png": "[encoded data removed]",
      "text/plain": [
       "<Figure size 432x288 with 1 Axes>"
      ]
     },
     "metadata": {
      "needs_background": "light"
     },
     "output_type": "display_data"
    }
   ],
   "source": [
    "rr1['Result'].value_counts().plot.bar(color='gray')"
   ]
  },
  {
   "cell_type": "markdown",
   "metadata": {},
   "source": [
    "Rajasthan Royals lost 3 out of 4 matches in which they batted first."
   ]
  },
  {
   "cell_type": "code",
   "execution_count": 313,
   "metadata": {},
   "outputs": [
    {
     "data": {
      "text/html": [
       "<div>\n",
       "<style scoped>\n",
       "    .dataframe tbody tr th:only-of-type {\n",
       "        vertical-align: middle;\n",
       "    }\n",
       "\n",
       "    .dataframe tbody tr th {\n",
       "        vertical-align: top;\n",
       "    }\n",
       "\n",
       "    .dataframe thead th {\n",
       "        text-align: right;\n",
       "    }\n",
       "</style>\n",
       "<table border=\"1\" class=\"dataframe\">\n",
       "  <thead>\n",
       "    <tr style=\"text-align: right;\">\n",
       "      <th></th>\n",
       "      <th>Match Number</th>\n",
       "      <th>Runs-1</th>\n",
       "      <th>Wickets-1</th>\n",
       "      <th>Runs-2</th>\n",
       "      <th>Wickets-2</th>\n",
       "    </tr>\n",
       "  </thead>\n",
       "  <tbody>\n",
       "    <tr>\n",
       "      <th>count</th>\n",
       "      <td>4.000000</td>\n",
       "      <td>4.000000</td>\n",
       "      <td>4.00</td>\n",
       "      <td>4.000000</td>\n",
       "      <td>4.000000</td>\n",
       "    </tr>\n",
       "    <tr>\n",
       "      <th>mean</th>\n",
       "      <td>23.000000</td>\n",
       "      <td>175.250000</td>\n",
       "      <td>6.25</td>\n",
       "      <td>173.250000</td>\n",
       "      <td>3.250000</td>\n",
       "    </tr>\n",
       "    <tr>\n",
       "      <th>std</th>\n",
       "      <td>16.472199</td>\n",
       "      <td>29.250356</td>\n",
       "      <td>0.50</td>\n",
       "      <td>20.645823</td>\n",
       "      <td>1.892969</td>\n",
       "    </tr>\n",
       "    <tr>\n",
       "      <th>min</th>\n",
       "      <td>4.000000</td>\n",
       "      <td>154.000000</td>\n",
       "      <td>6.00</td>\n",
       "      <td>156.000000</td>\n",
       "      <td>2.000000</td>\n",
       "    </tr>\n",
       "    <tr>\n",
       "      <th>25%</th>\n",
       "      <td>12.250000</td>\n",
       "      <td>154.000000</td>\n",
       "      <td>6.00</td>\n",
       "      <td>157.500000</td>\n",
       "      <td>2.000000</td>\n",
       "    </tr>\n",
       "    <tr>\n",
       "      <th>50%</th>\n",
       "      <td>24.000000</td>\n",
       "      <td>165.500000</td>\n",
       "      <td>6.00</td>\n",
       "      <td>168.500000</td>\n",
       "      <td>2.500000</td>\n",
       "    </tr>\n",
       "    <tr>\n",
       "      <th>75%</th>\n",
       "      <td>34.750000</td>\n",
       "      <td>186.750000</td>\n",
       "      <td>6.25</td>\n",
       "      <td>184.250000</td>\n",
       "      <td>3.750000</td>\n",
       "    </tr>\n",
       "    <tr>\n",
       "      <th>max</th>\n",
       "      <td>40.000000</td>\n",
       "      <td>216.000000</td>\n",
       "      <td>7.00</td>\n",
       "      <td>200.000000</td>\n",
       "      <td>6.000000</td>\n",
       "    </tr>\n",
       "  </tbody>\n",
       "</table>\n",
       "</div>"
      ],
      "text/plain": [
       "       Match Number      Runs-1  Wickets-1      Runs-2  Wickets-2\n",
       "count      4.000000    4.000000       4.00    4.000000   4.000000\n",
       "mean      23.000000  175.250000       6.25  173.250000   3.250000\n",
       "std       16.472199   29.250356       0.50   20.645823   1.892969\n",
       "min        4.000000  154.000000       6.00  156.000000   2.000000\n",
       "25%       12.250000  154.000000       6.00  157.500000   2.000000\n",
       "50%       24.000000  165.500000       6.00  168.500000   2.500000\n",
       "75%       34.750000  186.750000       6.25  184.250000   3.750000\n",
       "max       40.000000  216.000000       7.00  200.000000   6.000000"
      ]
     },
     "execution_count": 313,
     "metadata": {},
     "output_type": "execute_result"
    }
   ],
   "source": [
    "rr1.describe()"
   ]
  },
  {
   "cell_type": "markdown",
   "metadata": {},
   "source": [
    "When batting first, RR scores 175 runs on average and loses more than 6 wickets. They have only been able to pick up ~3 wickets of the chasing team!"
   ]
  },
  {
   "cell_type": "code",
   "execution_count": 314,
   "metadata": {},
   "outputs": [
    {
     "data": {
      "text/html": [
       "<div>\n",
       "<style scoped>\n",
       "    .dataframe tbody tr th:only-of-type {\n",
       "        vertical-align: middle;\n",
       "    }\n",
       "\n",
       "    .dataframe tbody tr th {\n",
       "        vertical-align: top;\n",
       "    }\n",
       "\n",
       "    .dataframe thead th {\n",
       "        text-align: right;\n",
       "    }\n",
       "</style>\n",
       "<table border=\"1\" class=\"dataframe\">\n",
       "  <thead>\n",
       "    <tr style=\"text-align: right;\">\n",
       "      <th></th>\n",
       "      <th>Match Number</th>\n",
       "      <th>Date</th>\n",
       "      <th>Match Time</th>\n",
       "      <th>Venue</th>\n",
       "      <th>Batting 1st</th>\n",
       "      <th>Chasing</th>\n",
       "      <th>Runs-1</th>\n",
       "      <th>Wickets-1</th>\n",
       "      <th>Runs-2</th>\n",
       "      <th>Wickets-2</th>\n",
       "      <th>Result</th>\n",
       "      <th>Winner</th>\n",
       "      <th>Loser</th>\n",
       "      <th>Super Over</th>\n",
       "      <th>Match Result</th>\n",
       "    </tr>\n",
       "  </thead>\n",
       "  <tbody>\n",
       "    <tr>\n",
       "      <th>8</th>\n",
       "      <td>9</td>\n",
       "      <td>2020-09-27</td>\n",
       "      <td>07:30:00</td>\n",
       "      <td>Sharjah</td>\n",
       "      <td>KXIP</td>\n",
       "      <td>RR</td>\n",
       "      <td>223</td>\n",
       "      <td>2</td>\n",
       "      <td>226</td>\n",
       "      <td>6</td>\n",
       "      <td>Chasing</td>\n",
       "      <td>RR</td>\n",
       "      <td>KXIP</td>\n",
       "      <td>No</td>\n",
       "      <td>RR won by 4 wickets</td>\n",
       "    </tr>\n",
       "    <tr>\n",
       "      <th>11</th>\n",
       "      <td>12</td>\n",
       "      <td>2020-09-30</td>\n",
       "      <td>07:30:00</td>\n",
       "      <td>Dubai</td>\n",
       "      <td>KKR</td>\n",
       "      <td>RR</td>\n",
       "      <td>174</td>\n",
       "      <td>6</td>\n",
       "      <td>137</td>\n",
       "      <td>9</td>\n",
       "      <td>Batting 1st</td>\n",
       "      <td>KKR</td>\n",
       "      <td>RR</td>\n",
       "      <td>No</td>\n",
       "      <td>KKR won by 37 runs</td>\n",
       "    </tr>\n",
       "    <tr>\n",
       "      <th>19</th>\n",
       "      <td>20</td>\n",
       "      <td>2020-10-06</td>\n",
       "      <td>07:30:00</td>\n",
       "      <td>Abu Dhabi</td>\n",
       "      <td>MI</td>\n",
       "      <td>RR</td>\n",
       "      <td>193</td>\n",
       "      <td>4</td>\n",
       "      <td>136</td>\n",
       "      <td>10</td>\n",
       "      <td>Batting 1st</td>\n",
       "      <td>MI</td>\n",
       "      <td>RR</td>\n",
       "      <td>No</td>\n",
       "      <td>MI won by 57 runs</td>\n",
       "    </tr>\n",
       "    <tr>\n",
       "      <th>22</th>\n",
       "      <td>23</td>\n",
       "      <td>2020-10-09</td>\n",
       "      <td>07:30:00</td>\n",
       "      <td>Sharjah</td>\n",
       "      <td>DC</td>\n",
       "      <td>RR</td>\n",
       "      <td>184</td>\n",
       "      <td>8</td>\n",
       "      <td>138</td>\n",
       "      <td>10</td>\n",
       "      <td>Batting 1st</td>\n",
       "      <td>DC</td>\n",
       "      <td>RR</td>\n",
       "      <td>No</td>\n",
       "      <td>DC won by 46 runs</td>\n",
       "    </tr>\n",
       "    <tr>\n",
       "      <th>25</th>\n",
       "      <td>26</td>\n",
       "      <td>2020-10-11</td>\n",
       "      <td>03:30:00</td>\n",
       "      <td>Dubai</td>\n",
       "      <td>SRH</td>\n",
       "      <td>RR</td>\n",
       "      <td>158</td>\n",
       "      <td>4</td>\n",
       "      <td>163</td>\n",
       "      <td>5</td>\n",
       "      <td>Chasing</td>\n",
       "      <td>RR</td>\n",
       "      <td>SRH</td>\n",
       "      <td>No</td>\n",
       "      <td>RR won by 5 wickets</td>\n",
       "    </tr>\n",
       "    <tr>\n",
       "      <th>29</th>\n",
       "      <td>30</td>\n",
       "      <td>2020-10-14</td>\n",
       "      <td>07:30:00</td>\n",
       "      <td>Dubai</td>\n",
       "      <td>DC</td>\n",
       "      <td>RR</td>\n",
       "      <td>161</td>\n",
       "      <td>7</td>\n",
       "      <td>148</td>\n",
       "      <td>8</td>\n",
       "      <td>Batting 1st</td>\n",
       "      <td>DC</td>\n",
       "      <td>RR</td>\n",
       "      <td>No</td>\n",
       "      <td>DC won by 13 runs</td>\n",
       "    </tr>\n",
       "    <tr>\n",
       "      <th>36</th>\n",
       "      <td>37</td>\n",
       "      <td>2020-10-19</td>\n",
       "      <td>07:30:00</td>\n",
       "      <td>Abu Dhabi</td>\n",
       "      <td>CSK</td>\n",
       "      <td>RR</td>\n",
       "      <td>125</td>\n",
       "      <td>5</td>\n",
       "      <td>126</td>\n",
       "      <td>3</td>\n",
       "      <td>Chasing</td>\n",
       "      <td>RR</td>\n",
       "      <td>CSK</td>\n",
       "      <td>No</td>\n",
       "      <td>RR won by 7 wickets</td>\n",
       "    </tr>\n",
       "    <tr>\n",
       "      <th>44</th>\n",
       "      <td>45</td>\n",
       "      <td>2020-10-25</td>\n",
       "      <td>07:30:00</td>\n",
       "      <td>Abu Dhabi</td>\n",
       "      <td>MI</td>\n",
       "      <td>RR</td>\n",
       "      <td>195</td>\n",
       "      <td>5</td>\n",
       "      <td>196</td>\n",
       "      <td>2</td>\n",
       "      <td>Chasing</td>\n",
       "      <td>RR</td>\n",
       "      <td>MI</td>\n",
       "      <td>No</td>\n",
       "      <td>RR won by 8 wickets</td>\n",
       "    </tr>\n",
       "  </tbody>\n",
       "</table>\n",
       "</div>"
      ],
      "text/plain": [
       "    Match Number       Date Match Time      Venue Batting 1st Chasing  Runs-1  \\\n",
       "8              9 2020-09-27   07:30:00    Sharjah        KXIP      RR     223   \n",
       "11            12 2020-09-30   07:30:00      Dubai         KKR      RR     174   \n",
       "19            20 2020-10-06   07:30:00  Abu Dhabi          MI      RR     193   \n",
       "22            23 2020-10-09   07:30:00    Sharjah          DC      RR     184   \n",
       "25            26 2020-10-11   03:30:00      Dubai         SRH      RR     158   \n",
       "29            30 2020-10-14   07:30:00      Dubai          DC      RR     161   \n",
       "36            37 2020-10-19   07:30:00  Abu Dhabi         CSK      RR     125   \n",
       "44            45 2020-10-25   07:30:00  Abu Dhabi          MI      RR     195   \n",
       "\n",
       "    Wickets-1  Runs-2  Wickets-2       Result Winner Loser Super Over  \\\n",
       "8           2     226          6      Chasing     RR  KXIP         No   \n",
       "11          6     137          9  Batting 1st    KKR    RR         No   \n",
       "19          4     136         10  Batting 1st     MI    RR         No   \n",
       "22          8     138         10  Batting 1st     DC    RR         No   \n",
       "25          4     163          5      Chasing     RR   SRH         No   \n",
       "29          7     148          8  Batting 1st     DC    RR         No   \n",
       "36          5     126          3      Chasing     RR   CSK         No   \n",
       "44          5     196          2      Chasing     RR    MI         No   \n",
       "\n",
       "           Match Result  \n",
       "8   RR won by 4 wickets  \n",
       "11   KKR won by 37 runs  \n",
       "19    MI won by 57 runs  \n",
       "22    DC won by 46 runs  \n",
       "25  RR won by 5 wickets  \n",
       "29    DC won by 13 runs  \n",
       "36  RR won by 7 wickets  \n",
       "44  RR won by 8 wickets  "
      ]
     },
     "execution_count": 314,
     "metadata": {},
     "output_type": "execute_result"
    }
   ],
   "source": [
    "rr2 = df[df['Chasing']== 'RR']\n",
    "rr2"
   ]
  },
  {
   "cell_type": "code",
   "execution_count": 323,
   "metadata": {},
   "outputs": [
    {
     "data": {
      "text/plain": [
       "<matplotlib.axes._subplots.AxesSubplot at 0x2332773da90>"
      ]
     },
     "execution_count": 323,
     "metadata": {},
     "output_type": "execute_result"
    },
    {
     "data": {
      "image/png": "[encoded data removed]",
      "text/plain": [
       "<Figure size 432x288 with 1 Axes>"
      ]
     },
     "metadata": {
      "needs_background": "light"
     },
     "output_type": "display_data"
    }
   ],
   "source": [
    "rr2['Result'].value_counts().plot.bar(color= 'red')"
   ]
  },
  {
   "cell_type": "markdown",
   "metadata": {},
   "source": [
    "Out of last 4 matches when RR chased, they have won 3 of them. They picked up around 5 wickets on average and lost around 4 on average."
   ]
  },
  {
   "cell_type": "markdown",
   "metadata": {},
   "source": [
    "Toss Prediction- Rajasthan Royals would ideally choose to bowl first on winning the toss."
   ]
  },
  {
   "cell_type": "code",
   "execution_count": 319,
   "metadata": {},
   "outputs": [
    {
     "data": {
      "text/html": [
       "<div>\n",
       "<style scoped>\n",
       "    .dataframe tbody tr th:only-of-type {\n",
       "        vertical-align: middle;\n",
       "    }\n",
       "\n",
       "    .dataframe tbody tr th {\n",
       "        vertical-align: top;\n",
       "    }\n",
       "\n",
       "    .dataframe thead th {\n",
       "        text-align: right;\n",
       "    }\n",
       "</style>\n",
       "<table border=\"1\" class=\"dataframe\">\n",
       "  <thead>\n",
       "    <tr style=\"text-align: right;\">\n",
       "      <th></th>\n",
       "      <th>Match Number</th>\n",
       "      <th>Runs-1</th>\n",
       "      <th>Wickets-1</th>\n",
       "      <th>Runs-2</th>\n",
       "      <th>Wickets-2</th>\n",
       "    </tr>\n",
       "  </thead>\n",
       "  <tbody>\n",
       "    <tr>\n",
       "      <th>count</th>\n",
       "      <td>8.00000</td>\n",
       "      <td>8.000000</td>\n",
       "      <td>8.000000</td>\n",
       "      <td>8.000000</td>\n",
       "      <td>8.000000</td>\n",
       "    </tr>\n",
       "    <tr>\n",
       "      <th>mean</th>\n",
       "      <td>25.25000</td>\n",
       "      <td>176.625000</td>\n",
       "      <td>5.125000</td>\n",
       "      <td>158.750000</td>\n",
       "      <td>6.625000</td>\n",
       "    </tr>\n",
       "    <tr>\n",
       "      <th>std</th>\n",
       "      <td>12.09191</td>\n",
       "      <td>29.456687</td>\n",
       "      <td>1.885092</td>\n",
       "      <td>34.923386</td>\n",
       "      <td>3.113909</td>\n",
       "    </tr>\n",
       "    <tr>\n",
       "      <th>min</th>\n",
       "      <td>9.00000</td>\n",
       "      <td>125.000000</td>\n",
       "      <td>2.000000</td>\n",
       "      <td>126.000000</td>\n",
       "      <td>2.000000</td>\n",
       "    </tr>\n",
       "    <tr>\n",
       "      <th>25%</th>\n",
       "      <td>18.00000</td>\n",
       "      <td>160.250000</td>\n",
       "      <td>4.000000</td>\n",
       "      <td>136.750000</td>\n",
       "      <td>4.500000</td>\n",
       "    </tr>\n",
       "    <tr>\n",
       "      <th>50%</th>\n",
       "      <td>24.50000</td>\n",
       "      <td>179.000000</td>\n",
       "      <td>5.000000</td>\n",
       "      <td>143.000000</td>\n",
       "      <td>7.000000</td>\n",
       "    </tr>\n",
       "    <tr>\n",
       "      <th>75%</th>\n",
       "      <td>31.75000</td>\n",
       "      <td>193.500000</td>\n",
       "      <td>6.250000</td>\n",
       "      <td>171.250000</td>\n",
       "      <td>9.250000</td>\n",
       "    </tr>\n",
       "    <tr>\n",
       "      <th>max</th>\n",
       "      <td>45.00000</td>\n",
       "      <td>223.000000</td>\n",
       "      <td>8.000000</td>\n",
       "      <td>226.000000</td>\n",
       "      <td>10.000000</td>\n",
       "    </tr>\n",
       "  </tbody>\n",
       "</table>\n",
       "</div>"
      ],
      "text/plain": [
       "       Match Number      Runs-1  Wickets-1      Runs-2  Wickets-2\n",
       "count       8.00000    8.000000   8.000000    8.000000   8.000000\n",
       "mean       25.25000  176.625000   5.125000  158.750000   6.625000\n",
       "std        12.09191   29.456687   1.885092   34.923386   3.113909\n",
       "min         9.00000  125.000000   2.000000  126.000000   2.000000\n",
       "25%        18.00000  160.250000   4.000000  136.750000   4.500000\n",
       "50%        24.50000  179.000000   5.000000  143.000000   7.000000\n",
       "75%        31.75000  193.500000   6.250000  171.250000   9.250000\n",
       "max        45.00000  223.000000   8.000000  226.000000  10.000000"
      ]
     },
     "execution_count": 319,
     "metadata": {},
     "output_type": "execute_result"
    }
   ],
   "source": [
    "rr2.describe()"
   ]
  },
  {
   "cell_type": "markdown",
   "metadata": {},
   "source": [
    "RR when chases, concedes 176 runs on avg. and picks up 5 wickets. It loses almost 7 wickets on average."
   ]
  },
  {
   "cell_type": "code",
   "execution_count": null,
   "metadata": {},
   "outputs": [],
   "source": []
  },
  {
   "cell_type": "markdown",
   "metadata": {},
   "source": [
    "# Other Insights:"
   ]
  },
  {
   "cell_type": "markdown",
   "metadata": {},
   "source": [
    "Apart from this, I also checked the number of wickets taken by Spinners and Pacers in the last 6 matches:"
   ]
  },
  {
   "cell_type": "markdown",
   "metadata": {},
   "source": [
    "Spinners: 20 wickets, Pacers: 46 wickets"
   ]
  },
  {
   "cell_type": "markdown",
   "metadata": {},
   "source": [
    "Insight: Choose more pacers in your lineup than spinners. Choose spinners from the defending team."
   ]
  },
  {
   "cell_type": "markdown",
   "metadata": {},
   "source": [
    "In last 5 matches played in Abu Dhabi, defending team lost 6 wickets on avg. while the chasing team lost just 4.\n"
   ]
  },
  {
   "cell_type": "markdown",
   "metadata": {},
   "source": [
    "Insight: Pick more bowlers from chasing team."
   ]
  },
  {
   "cell_type": "code",
   "execution_count": null,
   "metadata": {},
   "outputs": [],
   "source": []
  }
 ],
 "metadata": {
  "kernelspec": {
   "display_name": "Python 3",
   "language": "python",
   "name": "python3"
  },
  "language_info": {
   "codemirror_mode": {
    "name": "ipython",
    "version": 3
   },
   "file_extension": ".py",
   "mimetype": "text/x-python",
   "name": "python",
   "nbconvert_exporter": "python",
   "pygments_lexer": "ipython3",
   "version": "3.7.3"
  }
 },
 "nbformat": 4,
 "nbformat_minor": 2
}
